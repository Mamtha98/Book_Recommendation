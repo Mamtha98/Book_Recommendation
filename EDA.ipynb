{
 "cells": [
  {
   "cell_type": "code",
   "execution_count": 2,
   "metadata": {},
   "outputs": [
    {
     "name": "stdout",
     "output_type": "stream",
     "text": [
      "Requirement already satisfied: mysql-connector-python in c:\\users\\rishi\\anaconda3\\lib\\site-packages (8.4.0)\n"
     ]
    }
   ],
   "source": [
    "#!pip install streamlit\n",
    "!pip install mysql-connector-python"
   ]
  },
  {
   "cell_type": "code",
   "execution_count": 1,
   "metadata": {},
   "outputs": [],
   "source": [
    "import streamlit as st\n",
    "import mysql.connector\n",
    "import pandas as pd"
   ]
  },
  {
   "cell_type": "code",
   "execution_count": 2,
   "metadata": {},
   "outputs": [],
   "source": [
    "mydb = mysql.connector.connect(\n",
    "                        host=\"localhost\",\n",
    "                        user=\"root\",\n",
    "                        password=\"root\",\n",
    "                        database=\"gravity_books\"\n",
    "                    )\n",
    "mycursor = mydb.cursor()\n",
    "mycursor.execute('''\n",
    "                SELECT\n",
    "    c.customer_id,\n",
    "    b.book_id,\n",
    "    b.title,\n",
    "    b.language_id,\n",
    "    l.language_name,\n",
    "    b.num_pages,\n",
    "    b.publication_date,\n",
    "    p.publisher_name,\n",
    "    a.author_name,\n",
    "    ol.price,\n",
    "    o.order_date\n",
    "FROM\n",
    "    customer c\n",
    "JOIN\n",
    "    cust_order o ON c.customer_id = o.customer_id\n",
    "JOIN\n",
    "    order_line ol ON o.order_id = ol.order_id\n",
    "JOIN\n",
    "    book b ON ol.book_id = b.book_id\n",
    "LEFT JOIN\n",
    "    publisher p ON b.publisher_id = p.publisher_id\n",
    "LEFT JOIN\n",
    "    book_language l ON b.language_id = l.language_id\n",
    "LEFT JOIN\n",
    "    book_author ba ON b.book_id = ba.book_id\n",
    "LEFT JOIN\n",
    "    author a ON ba.author_id = a.author_id\n",
    "WHERE\n",
    "    o.order_date IS NOT NULL\n",
    "ORDER BY\n",
    "    o.order_date DESC;\n",
    "       ''')\n",
    "result_1 = mycursor.fetchall()\n"
   ]
  },
  {
   "cell_type": "code",
   "execution_count": 3,
   "metadata": {},
   "outputs": [],
   "source": [
    "Book_df = pd.DataFrame(result_1,columns=['customer_id','book_id','book_title','book_language_id','book_language_name',\n",
    "'num_pages','publication_date','publisher_name','author_name','book_price','order_date']).reset_index(drop=True)"
   ]
  },
  {
   "cell_type": "code",
   "execution_count": 4,
   "metadata": {},
   "outputs": [],
   "source": [
    "#Book_Book_Book_Book_df['Published_Year'] = Book_df['publication_date'].dt.year\n",
    "Book_df['Published_Year'] = pd.DatetimeIndex(Book_df['publication_date']).year"
   ]
  },
  {
   "cell_type": "code",
   "execution_count": 5,
   "metadata": {},
   "outputs": [],
   "source": [
    "Book_df['author_name'].fillna('Unknown Author', inplace=True)"
   ]
  },
  {
   "cell_type": "code",
   "execution_count": 26,
   "metadata": {},
   "outputs": [
    {
     "data": {
      "text/plain": [
       "8217"
      ]
     },
     "execution_count": 26,
     "metadata": {},
     "output_type": "execute_result"
    }
   ],
   "source": [
    "\"\"\"\n",
    "n = len(pd.unique(Book_df['author_name']))\n",
    "n\n",
    "c= Book_df.author_name.drop_duplicates().size\n",
    "c\"\"\""
   ]
  },
  {
   "cell_type": "code",
   "execution_count": 6,
   "metadata": {},
   "outputs": [],
   "source": [
    "Book_df['year'] = Book_df['order_date'].dt.year\n",
    "Book_df['month'] = Book_df['order_date'].dt.month\n",
    "Book_df['day'] = Book_df['order_date'].dt.day\n",
    "Book_df['day_of_week'] = Book_df['order_date'].dt.dayofweek\n",
    "\n",
    "# Calculate Days Since Last Order\n",
    "Book_df = Book_df.sort_values(by=['customer_id', 'order_date'])\n",
    "Book_df['days_since_last_order'] = Book_df.groupby('customer_id')['order_date'].diff().dt.days.fillna(0)\n",
    "\n"
   ]
  },
  {
   "cell_type": "code",
   "execution_count": 7,
   "metadata": {},
   "outputs": [],
   "source": [
    "Book_df['published_decade'] = (Book_df['Published_Year'] // 10) * 10\n",
    "Book_df['published_decade'] = Book_df['published_decade'].astype(str)  #"
   ]
  },
  {
   "cell_type": "code",
   "execution_count": 24,
   "metadata": {},
   "outputs": [
    {
     "data": {
      "text/html": [
       "<div>\n",
       "<style scoped>\n",
       "    .dataframe tbody tr th:only-of-type {\n",
       "        vertical-align: middle;\n",
       "    }\n",
       "\n",
       "    .dataframe tbody tr th {\n",
       "        vertical-align: top;\n",
       "    }\n",
       "\n",
       "    .dataframe thead th {\n",
       "        text-align: right;\n",
       "    }\n",
       "</style>\n",
       "<table border=\"1\" class=\"dataframe\">\n",
       "  <thead>\n",
       "    <tr style=\"text-align: right;\">\n",
       "      <th></th>\n",
       "      <th>customer_id</th>\n",
       "      <th>book_id</th>\n",
       "      <th>book_title</th>\n",
       "      <th>book_language_id</th>\n",
       "      <th>book_language_name</th>\n",
       "      <th>num_pages</th>\n",
       "      <th>publication_date</th>\n",
       "      <th>publisher_name</th>\n",
       "      <th>author_name</th>\n",
       "      <th>book_price</th>\n",
       "      <th>order_date</th>\n",
       "      <th>Published_Year</th>\n",
       "      <th>year</th>\n",
       "      <th>month</th>\n",
       "      <th>day</th>\n",
       "      <th>day_of_week</th>\n",
       "      <th>days_since_last_order</th>\n",
       "      <th>published_decade</th>\n",
       "    </tr>\n",
       "  </thead>\n",
       "  <tbody>\n",
       "    <tr>\n",
       "      <th>28966</th>\n",
       "      <td>317</td>\n",
       "      <td>8914</td>\n",
       "      <td>Wicked: The Grimmerie</td>\n",
       "      <td>1</td>\n",
       "      <td>English</td>\n",
       "      <td>192</td>\n",
       "      <td>2005-10-26</td>\n",
       "      <td>Hachette Books</td>\n",
       "      <td>David Cote</td>\n",
       "      <td>5.31</td>\n",
       "      <td>2022-09-12 01:47:44</td>\n",
       "      <td>2005</td>\n",
       "      <td>2022</td>\n",
       "      <td>9</td>\n",
       "      <td>12</td>\n",
       "      <td>0</td>\n",
       "      <td>0.0</td>\n",
       "      <td>2000</td>\n",
       "    </tr>\n",
       "    <tr>\n",
       "      <th>11315</th>\n",
       "      <td>43</td>\n",
       "      <td>1871</td>\n",
       "      <td>Bakkhai</td>\n",
       "      <td>1</td>\n",
       "      <td>English</td>\n",
       "      <td>160</td>\n",
       "      <td>2001-02-22</td>\n",
       "      <td>Oxford University Press USA</td>\n",
       "      <td>Euripides</td>\n",
       "      <td>18.37</td>\n",
       "      <td>2024-01-23 06:34:22</td>\n",
       "      <td>2001</td>\n",
       "      <td>2024</td>\n",
       "      <td>1</td>\n",
       "      <td>23</td>\n",
       "      <td>1</td>\n",
       "      <td>25.0</td>\n",
       "      <td>2000</td>\n",
       "    </tr>\n",
       "    <tr>\n",
       "      <th>21718</th>\n",
       "      <td>1397</td>\n",
       "      <td>3134</td>\n",
       "      <td>No Country for Old Men</td>\n",
       "      <td>1</td>\n",
       "      <td>English</td>\n",
       "      <td>309</td>\n",
       "      <td>2006-07-11</td>\n",
       "      <td>Vintage</td>\n",
       "      <td>Cormac McCarthy</td>\n",
       "      <td>8.13</td>\n",
       "      <td>2023-04-02 13:11:26</td>\n",
       "      <td>2006</td>\n",
       "      <td>2023</td>\n",
       "      <td>4</td>\n",
       "      <td>2</td>\n",
       "      <td>6</td>\n",
       "      <td>0.0</td>\n",
       "      <td>2000</td>\n",
       "    </tr>\n",
       "  </tbody>\n",
       "</table>\n",
       "</div>"
      ],
      "text/plain": [
       "       customer_id  book_id              book_title  book_language_id  \\\n",
       "28966          317     8914   Wicked: The Grimmerie                 1   \n",
       "11315           43     1871                 Bakkhai                 1   \n",
       "21718         1397     3134  No Country for Old Men                 1   \n",
       "\n",
       "      book_language_name  num_pages publication_date  \\\n",
       "28966            English        192       2005-10-26   \n",
       "11315            English        160       2001-02-22   \n",
       "21718            English        309       2006-07-11   \n",
       "\n",
       "                    publisher_name      author_name book_price  \\\n",
       "28966               Hachette Books       David Cote       5.31   \n",
       "11315  Oxford University Press USA        Euripides      18.37   \n",
       "21718                      Vintage  Cormac McCarthy       8.13   \n",
       "\n",
       "               order_date  Published_Year  year  month  day  day_of_week  \\\n",
       "28966 2022-09-12 01:47:44            2005  2022      9   12            0   \n",
       "11315 2024-01-23 06:34:22            2001  2024      1   23            1   \n",
       "21718 2023-04-02 13:11:26            2006  2023      4    2            6   \n",
       "\n",
       "       days_since_last_order published_decade  \n",
       "28966                    0.0             2000  \n",
       "11315                   25.0             2000  \n",
       "21718                    0.0             2000  "
      ]
     },
     "execution_count": 24,
     "metadata": {},
     "output_type": "execute_result"
    }
   ],
   "source": [
    "Book_df.sample(3)"
   ]
  },
  {
   "cell_type": "code",
   "execution_count": 10,
   "metadata": {},
   "outputs": [
    {
     "data": {
      "text/plain": [
       "Index(['customer_id', 'book_id', 'book_title', 'book_language_id',\n",
       "       'book_language_name', 'num_pages', 'publication_date', 'publisher_name',\n",
       "       'author_name', 'book_price', 'order_date', 'Published_Year', 'year',\n",
       "       'month', 'day', 'day_of_week', 'days_since_last_order',\n",
       "       'published_decade', 'page_category'],\n",
       "      dtype='object')"
      ]
     },
     "execution_count": 10,
     "metadata": {},
     "output_type": "execute_result"
    }
   ],
   "source": [
    "Book_df.columns"
   ]
  },
  {
   "cell_type": "code",
   "execution_count": 9,
   "metadata": {},
   "outputs": [],
   "source": [
    "bins = [0, 2000, 4000, 6000, 8000]\n",
    "labels = ['Short', 'Medium', 'Long', 'Very Long']\n",
    "Book_df['page_category'] = pd.cut(Book_df['num_pages'], bins=bins, labels=labels)"
   ]
  },
  {
   "cell_type": "code",
   "execution_count": 11,
   "metadata": {},
   "outputs": [
    {
     "name": "stdout",
     "output_type": "stream",
     "text": [
      "       book_price_scaled  days_since_last_order_scaled\n",
      "37945          -0.721250                      0.000000\n",
      "37946          -0.721250                      0.000000\n",
      "37713           0.777597                      0.005629\n",
      "37714           0.777597                      0.000000\n",
      "37715           1.137529                      0.000000\n"
     ]
    },
    {
     "data": {
      "text/plain": [
       "'\\n# Example user input\\nuser_input = {\\n    \\'book_price\\': 500,  # User-provided price\\n    \\'days_since_last_order\\': 15  # User-provided days\\n}\\n\\n# Transform user inputs\\nscaled_price = minmax_scaler.transform([[user_input[\\'book_price\\']]])[0][0]\\nscaled_days = standard_scaler.transform([[user_input[\\'days_since_last_order\\']]])[0][0]\\n\\n# Combine scaled inputs\\nscaled_input = np.array([scaled_price, scaled_days])\\n\\nprint(f\"Scaled Input: {scaled_input}\") 4691970078356060 12/27 724'"
      ]
     },
     "execution_count": 11,
     "metadata": {},
     "output_type": "execute_result"
    }
   ],
   "source": [
    "from sklearn.preprocessing import MinMaxScaler, StandardScaler\n",
    "import pickle\n",
    "\n",
    "# Columns to scale\n",
    "price_column = 'book_price'\n",
    "days_column = 'days_since_last_order'\n",
    "\n",
    "# Initialize scalers\n",
    "minmax_scaler = MinMaxScaler()\n",
    "standard_scaler = StandardScaler()\n",
    "\n",
    "# Apply MinMaxScaler to 'book_price'\n",
    "Book_df[f'{days_column}_scaled'] = minmax_scaler.fit_transform(Book_df[[days_column]])\n",
    "\n",
    "# Apply StandardScaler to 'days_since_last_order'\n",
    "Book_df[f'{price_column}_scaled'] = standard_scaler.fit_transform(Book_df[[price_column]])\n",
    "\n",
    "# Save the scalers to pickle files\n",
    "with open('minmax_scaler_price.pkl', 'wb') as file:\n",
    "    pickle.dump(minmax_scaler, file)\n",
    "\n",
    "with open('standard_scaler_days.pkl', 'wb') as file:\n",
    "    pickle.dump(standard_scaler, file)\n",
    "\n",
    "# Verify the transformations\n",
    "print(Book_df[[f'{price_column}_scaled', f'{days_column}_scaled']].head())\n",
    "\n",
    "\n",
    "import numpy as np\n",
    "\n",
    "# Load scalers\n",
    "with open('minmax_scaler_price.pkl', 'rb') as file:\n",
    "    minmax_scaler = pickle.load(file)\n",
    "\n",
    "with open('standard_scaler_days.pkl', 'rb') as file:\n",
    "    standard_scaler = pickle.load(file)\n",
    "\"\"\"\n",
    "# Example user input\n",
    "user_input = {\n",
    "    'book_price': 500,  # User-provided price\n",
    "    'days_since_last_order': 15  # User-provided days\n",
    "}\n",
    "\n",
    "# Transform user inputs\n",
    "scaled_price = minmax_scaler.transform([[user_input['book_price']]])[0][0]\n",
    "scaled_days = standard_scaler.transform([[user_input['days_since_last_order']]])[0][0]\n",
    "\n",
    "# Combine scaled inputs\n",
    "scaled_input = np.array([scaled_price, scaled_days])\n",
    "\n",
    "print(f\"Scaled Input: {scaled_input}\") 4691970078356060 12/27 724\"\"\"\n"
   ]
  },
  {
   "cell_type": "code",
   "execution_count": 13,
   "metadata": {},
   "outputs": [],
   "source": [
    "Book_df.columns\n"
   ]
  },
  {
   "cell_type": "code",
   "execution_count": 16,
   "metadata": {},
   "outputs": [],
   "source": [
    "df = Book_df.drop(['book_id', 'book_language_id',\n",
    "        'publication_date','num_pages',\n",
    "        'order_date', 'Published_Year', 'year',\n",
    "       'month', 'day', 'day_of_week'], axis = 1)"
   ]
  },
  {
   "cell_type": "code",
   "execution_count": 17,
   "metadata": {},
   "outputs": [
    {
     "data": {
      "text/html": [
       "<div>\n",
       "<style scoped>\n",
       "    .dataframe tbody tr th:only-of-type {\n",
       "        vertical-align: middle;\n",
       "    }\n",
       "\n",
       "    .dataframe tbody tr th {\n",
       "        vertical-align: top;\n",
       "    }\n",
       "\n",
       "    .dataframe thead th {\n",
       "        text-align: right;\n",
       "    }\n",
       "</style>\n",
       "<table border=\"1\" class=\"dataframe\">\n",
       "  <thead>\n",
       "    <tr style=\"text-align: right;\">\n",
       "      <th></th>\n",
       "      <th>customer_id</th>\n",
       "      <th>book_title</th>\n",
       "      <th>book_language_name</th>\n",
       "      <th>publisher_name</th>\n",
       "      <th>author_name</th>\n",
       "      <th>book_price</th>\n",
       "      <th>days_since_last_order</th>\n",
       "      <th>published_decade</th>\n",
       "      <th>page_category</th>\n",
       "    </tr>\n",
       "  </thead>\n",
       "  <tbody>\n",
       "    <tr>\n",
       "      <th>27905</th>\n",
       "      <td>337</td>\n",
       "      <td>And Still I Rise</td>\n",
       "      <td>English</td>\n",
       "      <td>Random House</td>\n",
       "      <td>Linda Sunshine</td>\n",
       "      <td>3.39</td>\n",
       "      <td>0.0</td>\n",
       "      <td>2000</td>\n",
       "      <td>Short</td>\n",
       "    </tr>\n",
       "    <tr>\n",
       "      <th>13010</th>\n",
       "      <td>1478</td>\n",
       "      <td>1599: A Year in the Life of William Shakespeare</td>\n",
       "      <td>English</td>\n",
       "      <td>Faber &amp; Faber</td>\n",
       "      <td>James Shapiro</td>\n",
       "      <td>2.76</td>\n",
       "      <td>0.0</td>\n",
       "      <td>2000</td>\n",
       "      <td>Short</td>\n",
       "    </tr>\n",
       "    <tr>\n",
       "      <th>13419</th>\n",
       "      <td>224</td>\n",
       "      <td>Ilium (Ilium  #1)</td>\n",
       "      <td>English</td>\n",
       "      <td>HarperTorch</td>\n",
       "      <td>Dan Simmons</td>\n",
       "      <td>1.98</td>\n",
       "      <td>79.0</td>\n",
       "      <td>2000</td>\n",
       "      <td>Short</td>\n",
       "    </tr>\n",
       "    <tr>\n",
       "      <th>29670</th>\n",
       "      <td>167</td>\n",
       "      <td>The Wish Giver: Three Tales of Coven Tree</td>\n",
       "      <td>English</td>\n",
       "      <td>HarperCollins</td>\n",
       "      <td>Andrew Glass</td>\n",
       "      <td>4.47</td>\n",
       "      <td>241.0</td>\n",
       "      <td>2010</td>\n",
       "      <td>Short</td>\n",
       "    </tr>\n",
       "    <tr>\n",
       "      <th>5495</th>\n",
       "      <td>384</td>\n",
       "      <td>Azumanga Daioh  Vol. 3 (Azumanga Daioh  #3)</td>\n",
       "      <td>English</td>\n",
       "      <td>ADV Manga</td>\n",
       "      <td>あずま きよひこ</td>\n",
       "      <td>0.50</td>\n",
       "      <td>0.0</td>\n",
       "      <td>2000</td>\n",
       "      <td>Short</td>\n",
       "    </tr>\n",
       "    <tr>\n",
       "      <th>31563</th>\n",
       "      <td>72</td>\n",
       "      <td>The Teeth of the Tiger (Jack Ryan Universe  #12)</td>\n",
       "      <td>English</td>\n",
       "      <td>Penguin Books Ltd.</td>\n",
       "      <td>Tom Clancy</td>\n",
       "      <td>13.15</td>\n",
       "      <td>5.0</td>\n",
       "      <td>2000</td>\n",
       "      <td>Short</td>\n",
       "    </tr>\n",
       "  </tbody>\n",
       "</table>\n",
       "</div>"
      ],
      "text/plain": [
       "       customer_id                                        book_title  \\\n",
       "27905          337                                  And Still I Rise   \n",
       "13010         1478   1599: A Year in the Life of William Shakespeare   \n",
       "13419          224                                 Ilium (Ilium  #1)   \n",
       "29670          167         The Wish Giver: Three Tales of Coven Tree   \n",
       "5495           384       Azumanga Daioh  Vol. 3 (Azumanga Daioh  #3)   \n",
       "31563           72  The Teeth of the Tiger (Jack Ryan Universe  #12)   \n",
       "\n",
       "      book_language_name      publisher_name     author_name book_price  \\\n",
       "27905            English        Random House  Linda Sunshine       3.39   \n",
       "13010            English       Faber & Faber   James Shapiro       2.76   \n",
       "13419            English         HarperTorch     Dan Simmons       1.98   \n",
       "29670            English       HarperCollins    Andrew Glass       4.47   \n",
       "5495             English           ADV Manga        あずま きよひこ       0.50   \n",
       "31563            English  Penguin Books Ltd.      Tom Clancy      13.15   \n",
       "\n",
       "       days_since_last_order published_decade page_category  \n",
       "27905                    0.0             2000         Short  \n",
       "13010                    0.0             2000         Short  \n",
       "13419                   79.0             2000         Short  \n",
       "29670                  241.0             2010         Short  \n",
       "5495                     0.0             2000         Short  \n",
       "31563                    5.0             2000         Short  "
      ]
     },
     "execution_count": 17,
     "metadata": {},
     "output_type": "execute_result"
    }
   ],
   "source": [
    "df.sample(6)"
   ]
  },
  {
   "cell_type": "code",
   "execution_count": 14,
   "metadata": {},
   "outputs": [],
   "source": [
    "l = df['publisher_name'].unique()\n"
   ]
  },
  {
   "cell_type": "code",
   "execution_count": null,
   "metadata": {},
   "outputs": [],
   "source": [
    "\"\"\"\n",
    "book_title=df['book_title'].unique()\n",
    "print (book_title)\n",
    "oh1=OneHotEncoder()\n",
    "df['encoded_book_title'] = oh1.fit_transform(df['book_title'])\n",
    "\n",
    "with open('book_title.pkl', 'wb') as file:\n",
    "    pickle.dump(oh1, file)\n",
    "\n",
    "with open('book_title.pkl', 'rb') as file:\n",
    "    fse = pickle.load(file)\n",
    "\n",
    "print (df['encoded_book_title'].unique())\"\"\""
   ]
  },
  {
   "cell_type": "code",
   "execution_count": 31,
   "metadata": {},
   "outputs": [],
   "source": []
  },
  {
   "cell_type": "code",
   "execution_count": 27,
   "metadata": {},
   "outputs": [
    {
     "data": {
      "text/plain": [
       "Index(['book_price', 'days_since_last_order', 'customer_id_encoded',\n",
       "       'book_title_encoded', 'book_language_name_encoded',\n",
       "       'publisher_name_encoded', 'author_name_encoded',\n",
       "       'published_decade_encoded', 'page_category_encoded'],\n",
       "      dtype='object')"
      ]
     },
     "execution_count": 27,
     "metadata": {},
     "output_type": "execute_result"
    }
   ],
   "source": [
    "df.columns"
   ]
  },
  {
   "cell_type": "code",
   "execution_count": 19,
   "metadata": {},
   "outputs": [],
   "source": [
    "import pandas as pd\n",
    "from sklearn.preprocessing import OneHotEncoder\n",
    "import pickle"
   ]
  },
  {
   "cell_type": "code",
   "execution_count": 26,
   "metadata": {},
   "outputs": [],
   "source": [
    "df = df.drop(['yeojohnson_days_since_last_order'], axis = 1)"
   ]
  },
  {
   "cell_type": "code",
   "execution_count": 20,
   "metadata": {},
   "outputs": [
    {
     "name": "stdout",
     "output_type": "stream",
     "text": [
      "      book_price  days_since_last_order  customer_id_encoded  \\\n",
      "37945       5.95                    0.0                    0   \n",
      "37946       5.95                    0.0                    0   \n",
      "37713      14.57                    6.0                    0   \n",
      "37714      14.57                    0.0                    0   \n",
      "37715      16.64                    0.0                    0   \n",
      "\n",
      "       book_title_encoded  book_language_name_encoded  publisher_name_encoded  \\\n",
      "37945                1366                           5                    1050   \n",
      "37946                1366                           5                    1050   \n",
      "37713                5648                          24                    1065   \n",
      "37714                5648                          24                    1065   \n",
      "37715                2416                           5                      56   \n",
      "\n",
      "       author_name_encoded  published_decade_encoded  page_category_encoded  \n",
      "37945                 1977                        10                      1  \n",
      "37946                 5261                        10                      1  \n",
      "37713                 1377                        10                      1  \n",
      "37714                 2627                        10                      1  \n",
      "37715                 5403                        10                      1  \n"
     ]
    }
   ],
   "source": [
    "from sklearn.preprocessing import LabelEncoder\n",
    "columns_to_encode = ['customer_id', 'book_title', 'book_language_name', 'publisher_name',\n",
    "       'author_name', 'published_decade', 'page_category']\n",
    "# Initialize encoders\n",
    "label_encoders = {}\n",
    "\n",
    "for column in columns_to_encode:\n",
    "    le = LabelEncoder()\n",
    "    df[f'{column}_encoded'] = le.fit_transform(df[column])\n",
    "    label_encoders[column] = le  # Save encoder for reuse\n",
    "    df.drop(column, axis=1, inplace=True)  # Drop the original column if desired\n",
    "\n",
    "    with open(f'{column}_encoder.pkl', 'wb') as file:\n",
    "        pickle.dump(le, file)\n",
    "\n",
    "    # Reload the encoder for verification (optional)\n",
    "    with open(f'{column}_encoder.pkl', 'rb') as file:\n",
    "        loaded_encoder = pickle.load(file)\n",
    "\n",
    "print(df.head())"
   ]
  },
  {
   "cell_type": "code",
   "execution_count": 51,
   "metadata": {},
   "outputs": [
    {
     "data": {
      "text/plain": [
       "book_price                     object\n",
       "days_since_last_order         float64\n",
       "customer_id_encoded             int64\n",
       "book_title_encoded              int32\n",
       "book_language_name_encoded      int32\n",
       "publisher_name_encoded          int32\n",
       "author_name_encoded             int32\n",
       "published_decade_encoded        int32\n",
       "page_category_encoded           int32\n",
       "dtype: object"
      ]
     },
     "execution_count": 51,
     "metadata": {},
     "output_type": "execute_result"
    }
   ],
   "source": [
    "df.dtypes"
   ]
  },
  {
   "cell_type": "code",
   "execution_count": 52,
   "metadata": {},
   "outputs": [
    {
     "data": {
      "text/plain": [
       "Text(0.5, 0, 'book_price')"
      ]
     },
     "execution_count": 52,
     "metadata": {},
     "output_type": "execute_result"
    },
    {
     "data": {
      "image/png": "[encoded data removed]",
      "text/plain": [
       "<Figure size 1000x1000 with 2 Axes>"
      ]
     },
     "metadata": {},
     "output_type": "display_data"
    }
   ],
   "source": [
    "import matplotlib.pyplot as plt\n",
    "fig,axs = plt.subplots(1,2,figsize=(10,10))\n",
    "axs[0].boxplot(x=df['book_price'].apply(float))\n",
    "axs[0].set_xlabel('book_price')\n",
    "axs[1].hist(df['book_price'].apply(float),bins=40, density=True, alpha=0.6, color='g', edgecolor='black', label='Histogram')\n",
    "axs[1].set_xlabel('book_price')"
   ]
  },
  {
   "cell_type": "code",
   "execution_count": 53,
   "metadata": {},
   "outputs": [
    {
     "data": {
      "text/plain": [
       "-0.01288822657808754"
      ]
     },
     "execution_count": 53,
     "metadata": {},
     "output_type": "execute_result"
    }
   ],
   "source": [
    "df['book_price'].skew()"
   ]
  },
  {
   "cell_type": "code",
   "execution_count": 55,
   "metadata": {},
   "outputs": [
    {
     "data": {
      "text/plain": [
       "Text(0.5, 0, 'days_since_last_order')"
      ]
     },
     "execution_count": 55,
     "metadata": {},
     "output_type": "execute_result"
    },
    {
     "data": {
      "image/png": "[encoded data removed]",
      "text/plain": [
       "<Figure size 1000x1000 with 2 Axes>"
      ]
     },
     "metadata": {},
     "output_type": "display_data"
    }
   ],
   "source": [
    "import matplotlib.pyplot as plt\n",
    "fig,axs = plt.subplots(1,2,figsize=(10,10))\n",
    "axs[0].boxplot(x=df['days_since_last_order'])\n",
    "axs[0].set_xlabel('days_since_last_orde')\n",
    "axs[1].hist(df['days_since_last_order'],bins=40, density=True, alpha=0.6, color='g', edgecolor='black', label='Histogram')\n",
    "axs[1].set_xlabel('days_since_last_order')"
   ]
  },
  {
   "cell_type": "code",
   "execution_count": 62,
   "metadata": {},
   "outputs": [],
   "source": [
    "import numpy as np\n",
    "df['sqrt_days_since_last_order'] = np.sqrt(df['days_since_last_order'])"
   ]
  },
  {
   "cell_type": "code",
   "execution_count": 21,
   "metadata": {},
   "outputs": [],
   "source": [
    "from sklearn.preprocessing import PowerTransformer\n",
    "\n",
    "# Apply Yeo-Johnson transformation\n",
    "pt = PowerTransformer(method='yeo-johnson')\n",
    "df['yeojohnson_days_since_last_order'] = pt.fit_transform(df[['days_since_last_order']])\n"
   ]
  },
  {
   "cell_type": "code",
   "execution_count": 23,
   "metadata": {},
   "outputs": [
    {
     "data": {
      "text/plain": [
       "0.7323708938810028"
      ]
     },
     "execution_count": 23,
     "metadata": {},
     "output_type": "execute_result"
    }
   ],
   "source": [
    "df['yeojohnson_days_since_last_order'].skew()"
   ]
  },
  {
   "cell_type": "code",
   "execution_count": 67,
   "metadata": {},
   "outputs": [
    {
     "data": {
      "text/plain": [
       "Text(0.5, 0, 'yeojohnson_days_since_last_order')"
      ]
     },
     "execution_count": 67,
     "metadata": {},
     "output_type": "execute_result"
    },
    {
     "data": {
      "image/png": "[encoded data removed]",
      "text/plain": [
       "<Figure size 1000x1000 with 2 Axes>"
      ]
     },
     "metadata": {},
     "output_type": "display_data"
    }
   ],
   "source": [
    "import matplotlib.pyplot as plt\n",
    "fig,axs = plt.subplots(1,2,figsize=(10,10))\n",
    "axs[0].boxplot(x=df['yeojohnson_days_since_last_order'])\n",
    "axs[0].set_xlabel('yeojohnson_days_since_last_order')\n",
    "axs[1].hist(df['yeojohnson_days_since_last_order'],bins=40, density=True, alpha=0.6, color='g', edgecolor='black', label='Histogram')\n",
    "axs[1].set_xlabel('yeojohnson_days_since_last_order')"
   ]
  },
  {
   "cell_type": "code",
   "execution_count": null,
   "metadata": {},
   "outputs": [],
   "source": [
    "# Access the encoder for 'book_title'\n",
    "book_title_encoder = reloaded_encoders['book_title']\n",
    "\n",
    "# Example user input\n",
    "user_book_title = \"Some Book Title\"  # Replace with actual user input\n",
    "\n",
    "# Transform user input\n",
    "if user_book_title in book_title_encoder.classes_:\n",
    "    encoded_book_title = book_title_encoder.transform([user_book_title])[0]\n",
    "    print(f\"Encoded book title: {encoded_book_title}\")\n",
    "else:\n",
    "    print(f\"The book title '{user_book_title}' is not in the encoder's training data.\")\n",
    "    encoded_book_title = -1  # Placeholder for unknown titles\n",
    "\n",
    "# (Optional) Decode back to original\n",
    "if encoded_book_title != -1:\n",
    "    decoded_book_title = book_title_encoder.inverse_transform([encoded_book_title])\n",
    "    print(f\"Decoded book title: {decoded_book_title[0]}\")"
   ]
  },
  {
   "cell_type": "code",
   "execution_count": 28,
   "metadata": {},
   "outputs": [
    {
     "data": {
      "text/plain": [
       "{'book_title': LabelEncoder(),\n",
       " 'author_name': LabelEncoder(),\n",
       " 'publisher_name': LabelEncoder()}"
      ]
     },
     "execution_count": 28,
     "metadata": {},
     "output_type": "execute_result"
    }
   ],
   "source": [
    "label_encoders"
   ]
  },
  {
   "cell_type": "code",
   "execution_count": 25,
   "metadata": {},
   "outputs": [
    {
     "name": "stdout",
     "output_type": "stream",
     "text": [
      "Unique values in 'book_title': ['Collected Stories  1911-1937'\n",
      " 'Sunny The Yellow Fairy (Rainbow Magic  #3)' 'Frost' ...\n",
      " 'The Twelfth Card (Lincoln Rhyme  #6)' \"Problems of Dostoevsky's Poetics\"\n",
      " \"Margaret Atwood's Power: Mirrors  Reflections and Images in Select Fiction and Poetry\"]\n"
     ]
    },
    {
     "name": "stderr",
     "output_type": "stream",
     "text": [
      "c:\\Users\\RISHI\\anaconda3\\Lib\\site-packages\\sklearn\\preprocessing\\_encoders.py:868: FutureWarning: `sparse` was renamed to `sparse_output` in version 1.2 and will be removed in 1.4. `sparse_output` is ignored unless you leave `sparse` to its default value.\n",
      "  warnings.warn(\n"
     ]
    },
    {
     "ename": "ValueError",
     "evalue": "Shape of passed values is (38614, 1), indices imply (38614, 9092)",
     "output_type": "error",
     "traceback": [
      "\u001b[1;31m---------------------------------------------------------------------------\u001b[0m",
      "\u001b[1;31mValueError\u001b[0m                                Traceback (most recent call last)",
      "Cell \u001b[1;32mIn[25], line 25\u001b[0m\n\u001b[0;32m     22\u001b[0m     loaded_encoder \u001b[38;5;241m=\u001b[39m pickle\u001b[38;5;241m.\u001b[39mload(file)\n\u001b[0;32m     24\u001b[0m \u001b[38;5;66;03m# Add encoded columns to DataFrame with meaningful names\u001b[39;00m\n\u001b[1;32m---> 25\u001b[0m encoded_columns \u001b[38;5;241m=\u001b[39m pd\u001b[38;5;241m.\u001b[39mDataFrame(\n\u001b[0;32m     26\u001b[0m     encoded_data,\n\u001b[0;32m     27\u001b[0m     columns\u001b[38;5;241m=\u001b[39m[\u001b[38;5;124mf\u001b[39m\u001b[38;5;124m\"\u001b[39m\u001b[38;5;132;01m{\u001b[39;00mcolumn\u001b[38;5;132;01m}\u001b[39;00m\u001b[38;5;124m_\u001b[39m\u001b[38;5;132;01m{\u001b[39;00mcat\u001b[38;5;132;01m}\u001b[39;00m\u001b[38;5;124m\"\u001b[39m \u001b[38;5;28;01mfor\u001b[39;00m cat \u001b[38;5;129;01min\u001b[39;00m oh1\u001b[38;5;241m.\u001b[39mcategories_[\u001b[38;5;241m0\u001b[39m]]\n\u001b[0;32m     28\u001b[0m )\n\u001b[0;32m     29\u001b[0m df \u001b[38;5;241m=\u001b[39m pd\u001b[38;5;241m.\u001b[39mconcat([df, encoded_columns], axis\u001b[38;5;241m=\u001b[39m\u001b[38;5;241m1\u001b[39m)\n\u001b[0;32m     31\u001b[0m \u001b[38;5;66;03m# Drop the original column if desired\u001b[39;00m\n",
      "File \u001b[1;32mc:\\Users\\RISHI\\anaconda3\\Lib\\site-packages\\pandas\\core\\frame.py:822\u001b[0m, in \u001b[0;36mDataFrame.__init__\u001b[1;34m(self, data, index, columns, dtype, copy)\u001b[0m\n\u001b[0;32m    814\u001b[0m         mgr \u001b[38;5;241m=\u001b[39m arrays_to_mgr(\n\u001b[0;32m    815\u001b[0m             arrays,\n\u001b[0;32m    816\u001b[0m             columns,\n\u001b[1;32m   (...)\u001b[0m\n\u001b[0;32m    819\u001b[0m             typ\u001b[38;5;241m=\u001b[39mmanager,\n\u001b[0;32m    820\u001b[0m         )\n\u001b[0;32m    821\u001b[0m     \u001b[38;5;28;01melse\u001b[39;00m:\n\u001b[1;32m--> 822\u001b[0m         mgr \u001b[38;5;241m=\u001b[39m ndarray_to_mgr(\n\u001b[0;32m    823\u001b[0m             data,\n\u001b[0;32m    824\u001b[0m             index,\n\u001b[0;32m    825\u001b[0m             columns,\n\u001b[0;32m    826\u001b[0m             dtype\u001b[38;5;241m=\u001b[39mdtype,\n\u001b[0;32m    827\u001b[0m             copy\u001b[38;5;241m=\u001b[39mcopy,\n\u001b[0;32m    828\u001b[0m             typ\u001b[38;5;241m=\u001b[39mmanager,\n\u001b[0;32m    829\u001b[0m         )\n\u001b[0;32m    830\u001b[0m \u001b[38;5;28;01melse\u001b[39;00m:\n\u001b[0;32m    831\u001b[0m     mgr \u001b[38;5;241m=\u001b[39m dict_to_mgr(\n\u001b[0;32m    832\u001b[0m         {},\n\u001b[0;32m    833\u001b[0m         index,\n\u001b[1;32m   (...)\u001b[0m\n\u001b[0;32m    836\u001b[0m         typ\u001b[38;5;241m=\u001b[39mmanager,\n\u001b[0;32m    837\u001b[0m     )\n",
      "File \u001b[1;32mc:\\Users\\RISHI\\anaconda3\\Lib\\site-packages\\pandas\\core\\internals\\construction.py:336\u001b[0m, in \u001b[0;36mndarray_to_mgr\u001b[1;34m(values, index, columns, dtype, copy, typ)\u001b[0m\n\u001b[0;32m    331\u001b[0m \u001b[38;5;66;03m# _prep_ndarraylike ensures that values.ndim == 2 at this point\u001b[39;00m\n\u001b[0;32m    332\u001b[0m index, columns \u001b[38;5;241m=\u001b[39m _get_axes(\n\u001b[0;32m    333\u001b[0m     values\u001b[38;5;241m.\u001b[39mshape[\u001b[38;5;241m0\u001b[39m], values\u001b[38;5;241m.\u001b[39mshape[\u001b[38;5;241m1\u001b[39m], index\u001b[38;5;241m=\u001b[39mindex, columns\u001b[38;5;241m=\u001b[39mcolumns\n\u001b[0;32m    334\u001b[0m )\n\u001b[1;32m--> 336\u001b[0m _check_values_indices_shape_match(values, index, columns)\n\u001b[0;32m    338\u001b[0m \u001b[38;5;28;01mif\u001b[39;00m typ \u001b[38;5;241m==\u001b[39m \u001b[38;5;124m\"\u001b[39m\u001b[38;5;124marray\u001b[39m\u001b[38;5;124m\"\u001b[39m:\n\u001b[0;32m    339\u001b[0m     \u001b[38;5;28;01mif\u001b[39;00m \u001b[38;5;28missubclass\u001b[39m(values\u001b[38;5;241m.\u001b[39mdtype\u001b[38;5;241m.\u001b[39mtype, \u001b[38;5;28mstr\u001b[39m):\n",
      "File \u001b[1;32mc:\\Users\\RISHI\\anaconda3\\Lib\\site-packages\\pandas\\core\\internals\\construction.py:420\u001b[0m, in \u001b[0;36m_check_values_indices_shape_match\u001b[1;34m(values, index, columns)\u001b[0m\n\u001b[0;32m    418\u001b[0m passed \u001b[38;5;241m=\u001b[39m values\u001b[38;5;241m.\u001b[39mshape\n\u001b[0;32m    419\u001b[0m implied \u001b[38;5;241m=\u001b[39m (\u001b[38;5;28mlen\u001b[39m(index), \u001b[38;5;28mlen\u001b[39m(columns))\n\u001b[1;32m--> 420\u001b[0m \u001b[38;5;28;01mraise\u001b[39;00m \u001b[38;5;167;01mValueError\u001b[39;00m(\u001b[38;5;124mf\u001b[39m\u001b[38;5;124m\"\u001b[39m\u001b[38;5;124mShape of passed values is \u001b[39m\u001b[38;5;132;01m{\u001b[39;00mpassed\u001b[38;5;132;01m}\u001b[39;00m\u001b[38;5;124m, indices imply \u001b[39m\u001b[38;5;132;01m{\u001b[39;00mimplied\u001b[38;5;132;01m}\u001b[39;00m\u001b[38;5;124m\"\u001b[39m)\n",
      "\u001b[1;31mValueError\u001b[0m: Shape of passed values is (38614, 1), indices imply (38614, 9092)"
     ]
    }
   ],
   "source": [
    "columns_to_encode = ['book_title', 'author_name', 'publisher_name']\n",
    "\n",
    "# Dictionary to store encoders\n",
    "encoders = {}\n",
    "\n",
    "# Loop through each column\n",
    "for column in columns_to_encode:\n",
    "    # Get unique values for debugging or reference\n",
    "    unique_values = df[column].unique()\n",
    "    print(f\"Unique values in '{column}': {unique_values}\")\n",
    "    \n",
    "    # Initialize and fit the encoder\n",
    "    oh1 = OneHotEncoder(sparse=True)\n",
    "    encoded_data = oh1.fit_transform(df[[column]])\n",
    "    \n",
    "    # Save the encoder to a pickle file\n",
    "    with open(f'{column}_encoder.pkl', 'wb') as file:\n",
    "        pickle.dump(oh1, file)\n",
    "\n",
    "    # Reload the encoder for verification (optional)\n",
    "    with open(f'{column}_encoder.pkl', 'rb') as file:\n",
    "        loaded_encoder = pickle.load(file)\n",
    "    \n",
    "    # Add encoded columns to DataFrame with meaningful names\n",
    "    encoded_columns = pd.DataFrame(\n",
    "        encoded_data,\n",
    "        columns=[f\"{column}_{cat}\" for cat in oh1.categories_[0]]\n",
    "    )\n",
    "    df = pd.concat([df, encoded_columns], axis=1)\n",
    "    \n",
    "    # Drop the original column if desired\n",
    "    df.drop(column, axis=1, inplace=True)\n",
    "    \n",
    "    # Store the encoder in a dictionary for later use\n",
    "    encoders[column] = loaded_encoder\n",
    "\n",
    "# Check the result\n",
    "print(df.head())"
   ]
  },
  {
   "cell_type": "code",
   "execution_count": 34,
   "metadata": {},
   "outputs": [
    {
     "data": {
      "text/plain": [
       "Index(['book_price', 'days_since_last_order', 'customer_id_encoded',\n",
       "       'book_title_encoded', 'book_language_name_encoded',\n",
       "       'publisher_name_encoded', 'author_name_encoded',\n",
       "       'published_decade_encoded', 'page_category_encoded'],\n",
       "      dtype='object')"
      ]
     },
     "execution_count": 34,
     "metadata": {},
     "output_type": "execute_result"
    }
   ],
   "source": [
    "df.columns"
   ]
  },
  {
   "cell_type": "code",
   "execution_count": 29,
   "metadata": {},
   "outputs": [],
   "source": [
    "dfbkp = df"
   ]
  },
  {
   "cell_type": "code",
   "execution_count": 58,
   "metadata": {},
   "outputs": [],
   "source": [
    "df =dfbkp"
   ]
  },
  {
   "cell_type": "code",
   "execution_count": 59,
   "metadata": {},
   "outputs": [],
   "source": [
    "features = ['book_price', 'days_since_last_order',\n",
    "       'customer_id_encoded',\n",
    "       'book_language_name_encoded', 'publisher_name_encoded',\n",
    "       'author_name_encoded', 'published_decade_encoded',\n",
    "       'page_category_encoded']\n",
    "target = 'book_title_encoded'\n"
   ]
  },
  {
   "cell_type": "code",
   "execution_count": 52,
   "metadata": {},
   "outputs": [
    {
     "data": {
      "text/plain": [
       "((30891, 8), (7723, 8), (30891,), (7723,))"
      ]
     },
     "execution_count": 52,
     "metadata": {},
     "output_type": "execute_result"
    }
   ],
   "source": [
    "from sklearn.model_selection import train_test_split\n",
    "'''\n",
    "X = df[features].values  # Independent variables\n",
    "y = df[target].values    # Target variable'''\n",
    "\n",
    "# Split into training and testing sets\n",
    "X_train, X_test, y_train, y_test = train_test_split(df[features], df[target], test_size=0.2, random_state=42)\n",
    "X_train.shape,X_test.shape,y_train.shape,y_test.shape"
   ]
  },
  {
   "cell_type": "code",
   "execution_count": 60,
   "metadata": {},
   "outputs": [
    {
     "data": {
      "text/plain": [
       "((30891, 8), (7723, 8), (30891,), (7723,))"
      ]
     },
     "execution_count": 60,
     "metadata": {},
     "output_type": "execute_result"
    }
   ],
   "source": [
    "X_train.shape,X_test.shape,y_train.shape,y_test.shape"
   ]
  },
  {
   "cell_type": "code",
   "execution_count": 55,
   "metadata": {},
   "outputs": [],
   "source": [
    "from sklearn.preprocessing import StandardScaler\n",
    "sc = StandardScaler()\n",
    "X_train = sc.fit_transform(X_train)\n",
    "X_test = sc.transform(X_test)"
   ]
  },
  {
   "cell_type": "code",
   "execution_count": 61,
   "metadata": {},
   "outputs": [],
   "source": [
    "from sklearn.preprocessing import StandardScaler"
   ]
  },
  {
   "cell_type": "code",
   "execution_count": 62,
   "metadata": {},
   "outputs": [],
   "source": [
    "scalerx1 = StandardScaler()\n",
    "X_train_scaled = scalerx1.fit_transform(X_train)\n"
   ]
  },
  {
   "cell_type": "code",
   "execution_count": 64,
   "metadata": {},
   "outputs": [],
   "source": [
    "scalery1 = StandardScaler()\n",
    "X_test_scaled = scalery1.fit_transform(X_test)"
   ]
  },
  {
   "cell_type": "code",
   "execution_count": 65,
   "metadata": {},
   "outputs": [],
   "source": [
    "with open('scalerx1.pkl', 'wb') as file:\n",
    "    pickle.dump(scalerx1, file)\n",
    "with open('scalerx1.pkl', 'rb') as file:\n",
    "    scaled_datax = pickle.load(file)  \n",
    "\n",
    "with open('scalery1.pkl', 'wb') as file:\n",
    "    pickle.dump(scalery1, file)\n",
    "with open('scalery1.pkl', 'rb') as file:\n",
    "    scaled_datay = pickle.load(file) "
   ]
  },
  {
   "cell_type": "code",
   "execution_count": null,
   "metadata": {},
   "outputs": [],
   "source": [
    "!pip install tensorflow"
   ]
  },
  {
   "cell_type": "code",
   "execution_count": 78,
   "metadata": {},
   "outputs": [
    {
     "name": "stdout",
     "output_type": "stream",
     "text": [
      "Collecting streamlit-option-menu\n",
      "  Downloading streamlit_option_menu-0.4.0-py3-none-any.whl.metadata (2.5 kB)\n",
      "Collecting streamlit>=1.36 (from streamlit-option-menu)\n",
      "  Using cached streamlit-1.41.1-py2.py3-none-any.whl.metadata (8.5 kB)\n",
      "Requirement already satisfied: altair<6,>=4.0 in c:\\users\\rishi\\anaconda3\\lib\\site-packages (from streamlit>=1.36->streamlit-option-menu) (5.0.1)\n",
      "Requirement already satisfied: blinker<2,>=1.0.0 in c:\\users\\rishi\\anaconda3\\lib\\site-packages (from streamlit>=1.36->streamlit-option-menu) (1.6.2)\n",
      "Requirement already satisfied: cachetools<6,>=4.0 in c:\\users\\rishi\\anaconda3\\lib\\site-packages (from streamlit>=1.36->streamlit-option-menu) (4.2.2)\n",
      "Requirement already satisfied: click<9,>=7.0 in c:\\users\\rishi\\anaconda3\\lib\\site-packages (from streamlit>=1.36->streamlit-option-menu) (8.1.7)\n",
      "Requirement already satisfied: numpy<3,>=1.23 in c:\\users\\rishi\\anaconda3\\lib\\site-packages (from streamlit>=1.36->streamlit-option-menu) (1.26.4)\n",
      "Requirement already satisfied: packaging<25,>=20 in c:\\users\\rishi\\anaconda3\\lib\\site-packages (from streamlit>=1.36->streamlit-option-menu) (23.1)\n",
      "Requirement already satisfied: pandas<3,>=1.4.0 in c:\\users\\rishi\\anaconda3\\lib\\site-packages (from streamlit>=1.36->streamlit-option-menu) (2.1.4)\n",
      "Requirement already satisfied: pillow<12,>=7.1.0 in c:\\users\\rishi\\anaconda3\\lib\\site-packages (from streamlit>=1.36->streamlit-option-menu) (10.2.0)\n",
      "Requirement already satisfied: protobuf<6,>=3.20 in c:\\users\\rishi\\anaconda3\\lib\\site-packages (from streamlit>=1.36->streamlit-option-menu) (3.20.3)\n",
      "Requirement already satisfied: pyarrow>=7.0 in c:\\users\\rishi\\anaconda3\\lib\\site-packages (from streamlit>=1.36->streamlit-option-menu) (14.0.2)\n",
      "Requirement already satisfied: requests<3,>=2.27 in c:\\users\\rishi\\anaconda3\\lib\\site-packages (from streamlit>=1.36->streamlit-option-menu) (2.31.0)\n",
      "Requirement already satisfied: rich<14,>=10.14.0 in c:\\users\\rishi\\anaconda3\\lib\\site-packages (from streamlit>=1.36->streamlit-option-menu) (13.3.5)\n",
      "Requirement already satisfied: tenacity<10,>=8.1.0 in c:\\users\\rishi\\anaconda3\\lib\\site-packages (from streamlit>=1.36->streamlit-option-menu) (8.2.2)\n",
      "Requirement already satisfied: toml<2,>=0.10.1 in c:\\users\\rishi\\anaconda3\\lib\\site-packages (from streamlit>=1.36->streamlit-option-menu) (0.10.2)\n",
      "Requirement already satisfied: typing-extensions<5,>=4.3.0 in c:\\users\\rishi\\anaconda3\\lib\\site-packages (from streamlit>=1.36->streamlit-option-menu) (4.9.0)\n",
      "Requirement already satisfied: watchdog<7,>=2.1.5 in c:\\users\\rishi\\anaconda3\\lib\\site-packages (from streamlit>=1.36->streamlit-option-menu) (2.1.6)\n",
      "Requirement already satisfied: gitpython!=3.1.19,<4,>=3.0.7 in c:\\users\\rishi\\anaconda3\\lib\\site-packages (from streamlit>=1.36->streamlit-option-menu) (3.1.37)\n",
      "Requirement already satisfied: pydeck<1,>=0.8.0b4 in c:\\users\\rishi\\anaconda3\\lib\\site-packages (from streamlit>=1.36->streamlit-option-menu) (0.8.0)\n",
      "Requirement already satisfied: tornado<7,>=6.0.3 in c:\\users\\rishi\\anaconda3\\lib\\site-packages (from streamlit>=1.36->streamlit-option-menu) (6.3.3)\n",
      "Requirement already satisfied: jinja2 in c:\\users\\rishi\\anaconda3\\lib\\site-packages (from altair<6,>=4.0->streamlit>=1.36->streamlit-option-menu) (3.1.3)\n",
      "Requirement already satisfied: jsonschema>=3.0 in c:\\users\\rishi\\anaconda3\\lib\\site-packages (from altair<6,>=4.0->streamlit>=1.36->streamlit-option-menu) (4.19.2)\n",
      "Requirement already satisfied: toolz in c:\\users\\rishi\\anaconda3\\lib\\site-packages (from altair<6,>=4.0->streamlit>=1.36->streamlit-option-menu) (0.12.0)\n",
      "Requirement already satisfied: colorama in c:\\users\\rishi\\anaconda3\\lib\\site-packages (from click<9,>=7.0->streamlit>=1.36->streamlit-option-menu) (0.4.6)\n",
      "Requirement already satisfied: gitdb<5,>=4.0.1 in c:\\users\\rishi\\anaconda3\\lib\\site-packages (from gitpython!=3.1.19,<4,>=3.0.7->streamlit>=1.36->streamlit-option-menu) (4.0.7)\n",
      "Requirement already satisfied: python-dateutil>=2.8.2 in c:\\users\\rishi\\anaconda3\\lib\\site-packages (from pandas<3,>=1.4.0->streamlit>=1.36->streamlit-option-menu) (2.8.2)\n",
      "Requirement already satisfied: pytz>=2020.1 in c:\\users\\rishi\\anaconda3\\lib\\site-packages (from pandas<3,>=1.4.0->streamlit>=1.36->streamlit-option-menu) (2023.3.post1)\n",
      "Requirement already satisfied: tzdata>=2022.1 in c:\\users\\rishi\\anaconda3\\lib\\site-packages (from pandas<3,>=1.4.0->streamlit>=1.36->streamlit-option-menu) (2023.3)\n",
      "Requirement already satisfied: charset-normalizer<4,>=2 in c:\\users\\rishi\\anaconda3\\lib\\site-packages (from requests<3,>=2.27->streamlit>=1.36->streamlit-option-menu) (2.0.4)\n",
      "Requirement already satisfied: idna<4,>=2.5 in c:\\users\\rishi\\anaconda3\\lib\\site-packages (from requests<3,>=2.27->streamlit>=1.36->streamlit-option-menu) (3.4)\n",
      "Requirement already satisfied: urllib3<3,>=1.21.1 in c:\\users\\rishi\\anaconda3\\lib\\site-packages (from requests<3,>=2.27->streamlit>=1.36->streamlit-option-menu) (2.0.7)\n",
      "Requirement already satisfied: certifi>=2017.4.17 in c:\\users\\rishi\\anaconda3\\lib\\site-packages (from requests<3,>=2.27->streamlit>=1.36->streamlit-option-menu) (2024.2.2)\n",
      "Requirement already satisfied: markdown-it-py<3.0.0,>=2.2.0 in c:\\users\\rishi\\anaconda3\\lib\\site-packages (from rich<14,>=10.14.0->streamlit>=1.36->streamlit-option-menu) (2.2.0)\n",
      "Requirement already satisfied: pygments<3.0.0,>=2.13.0 in c:\\users\\rishi\\anaconda3\\lib\\site-packages (from rich<14,>=10.14.0->streamlit>=1.36->streamlit-option-menu) (2.15.1)\n",
      "Requirement already satisfied: smmap<5,>=3.0.1 in c:\\users\\rishi\\anaconda3\\lib\\site-packages (from gitdb<5,>=4.0.1->gitpython!=3.1.19,<4,>=3.0.7->streamlit>=1.36->streamlit-option-menu) (4.0.0)\n",
      "Requirement already satisfied: MarkupSafe>=2.0 in c:\\users\\rishi\\anaconda3\\lib\\site-packages (from jinja2->altair<6,>=4.0->streamlit>=1.36->streamlit-option-menu) (2.1.3)\n",
      "Requirement already satisfied: attrs>=22.2.0 in c:\\users\\rishi\\anaconda3\\lib\\site-packages (from jsonschema>=3.0->altair<6,>=4.0->streamlit>=1.36->streamlit-option-menu) (23.1.0)\n",
      "Requirement already satisfied: jsonschema-specifications>=2023.03.6 in c:\\users\\rishi\\anaconda3\\lib\\site-packages (from jsonschema>=3.0->altair<6,>=4.0->streamlit>=1.36->streamlit-option-menu) (2023.7.1)\n",
      "Requirement already satisfied: referencing>=0.28.4 in c:\\users\\rishi\\anaconda3\\lib\\site-packages (from jsonschema>=3.0->altair<6,>=4.0->streamlit>=1.36->streamlit-option-menu) (0.30.2)\n",
      "Requirement already satisfied: rpds-py>=0.7.1 in c:\\users\\rishi\\anaconda3\\lib\\site-packages (from jsonschema>=3.0->altair<6,>=4.0->streamlit>=1.36->streamlit-option-menu) (0.10.6)\n",
      "Requirement already satisfied: mdurl~=0.1 in c:\\users\\rishi\\anaconda3\\lib\\site-packages (from markdown-it-py<3.0.0,>=2.2.0->rich<14,>=10.14.0->streamlit>=1.36->streamlit-option-menu) (0.1.0)\n",
      "Requirement already satisfied: six>=1.5 in c:\\users\\rishi\\anaconda3\\lib\\site-packages (from python-dateutil>=2.8.2->pandas<3,>=1.4.0->streamlit>=1.36->streamlit-option-menu) (1.16.0)\n",
      "Downloading streamlit_option_menu-0.4.0-py3-none-any.whl (829 kB)\n",
      "   ---------------------------------------- 0.0/829.3 kB ? eta -:--:--\n",
      "   ---------------------------------------- 10.2/829.3 kB ? eta -:--:--\n",
      "   - ------------------------------------- 30.7/829.3 kB 435.7 kB/s eta 0:00:02\n",
      "   - ------------------------------------- 41.0/829.3 kB 393.8 kB/s eta 0:00:03\n",
      "   --- ----------------------------------- 81.9/829.3 kB 459.5 kB/s eta 0:00:02\n",
      "   ---- ---------------------------------- 92.2/829.3 kB 476.3 kB/s eta 0:00:02\n",
      "   ----- -------------------------------- 112.6/829.3 kB 437.6 kB/s eta 0:00:02\n",
      "   ------ ------------------------------- 143.4/829.3 kB 448.2 kB/s eta 0:00:02\n",
      "   ------- ------------------------------ 163.8/829.3 kB 468.3 kB/s eta 0:00:02\n",
      "   -------- ----------------------------- 194.6/829.3 kB 454.0 kB/s eta 0:00:02\n",
      "   --------- ---------------------------- 204.8/829.3 kB 414.8 kB/s eta 0:00:02\n",
      "   ---------- --------------------------- 225.3/829.3 kB 416.7 kB/s eta 0:00:02\n",
      "   ----------- -------------------------- 256.0/829.3 kB 437.3 kB/s eta 0:00:02\n",
      "   ------------- ------------------------ 286.7/829.3 kB 454.0 kB/s eta 0:00:02\n",
      "   --------------- ---------------------- 337.9/829.3 kB 487.6 kB/s eta 0:00:02\n",
      "   ---------------- --------------------- 368.6/829.3 kB 521.7 kB/s eta 0:00:01\n",
      "   ------------------ ------------------- 409.6/829.3 kB 532.5 kB/s eta 0:00:01\n",
      "   -------------------- ----------------- 440.3/829.3 kB 529.7 kB/s eta 0:00:01\n",
      "   -------------------- ----------------- 450.6/829.3 kB 503.2 kB/s eta 0:00:01\n",
      "   ---------------------- --------------- 491.5/829.3 kB 522.0 kB/s eta 0:00:01\n",
      "   ---------------------- --------------- 501.8/829.3 kB 507.2 kB/s eta 0:00:01\n",
      "   ------------------------- ------------ 553.0/829.3 kB 526.4 kB/s eta 0:00:01\n",
      "   --------------------------- ---------- 604.2/829.3 kB 559.2 kB/s eta 0:00:01\n",
      "   ----------------------------- -------- 634.9/829.3 kB 540.3 kB/s eta 0:00:01\n",
      "   ------------------------------ ------- 655.4/829.3 kB 536.3 kB/s eta 0:00:01\n",
      "   ------------------------------- ------ 686.1/829.3 kB 533.8 kB/s eta 0:00:01\n",
      "   -------------------------------- ----- 716.8/829.3 kB 538.5 kB/s eta 0:00:01\n",
      "   -------------------------------------  819.2/829.3 kB 595.3 kB/s eta 0:00:01\n",
      "   -------------------------------------- 829.3/829.3 kB 576.0 kB/s eta 0:00:00\n",
      "Using cached streamlit-1.41.1-py2.py3-none-any.whl (9.1 MB)\n",
      "Installing collected packages: streamlit, streamlit-option-menu\n",
      "  Attempting uninstall: streamlit\n",
      "    Found existing installation: streamlit 1.30.0\n",
      "    Uninstalling streamlit-1.30.0:\n",
      "      Successfully uninstalled streamlit-1.30.0\n",
      "Successfully installed streamlit-1.41.1 streamlit-option-menu-0.4.0\n"
     ]
    }
   ],
   "source": [
    "!pip install streamlit-option-menu"
   ]
  },
  {
   "cell_type": "code",
   "execution_count": 67,
   "metadata": {},
   "outputs": [],
   "source": [
    "num_classes = len(df['book_title_encoded'].unique())"
   ]
  },
  {
   "cell_type": "code",
   "execution_count": 68,
   "metadata": {},
   "outputs": [
    {
     "data": {
      "text/html": [
       "<pre style=\"white-space:pre;overflow-x:auto;line-height:normal;font-family:Menlo,'DejaVu Sans Mono',consolas,'Courier New',monospace\"><span style=\"font-weight: bold\">Model: \"sequential_1\"</span>\n",
       "</pre>\n"
      ],
      "text/plain": [
       "\u001b[1mModel: \"sequential_1\"\u001b[0m\n"
      ]
     },
     "metadata": {},
     "output_type": "display_data"
    },
    {
     "data": {
      "text/html": [
       "<pre style=\"white-space:pre;overflow-x:auto;line-height:normal;font-family:Menlo,'DejaVu Sans Mono',consolas,'Courier New',monospace\">┏━━━━━━━━━━━━━━━━━━━━━━━━━━━━━━━━━┳━━━━━━━━━━━━━━━━━━━━━━━━┳━━━━━━━━━━━━━━━┓\n",
       "┃<span style=\"font-weight: bold\"> Layer (type)                    </span>┃<span style=\"font-weight: bold\"> Output Shape           </span>┃<span style=\"font-weight: bold\">       Param # </span>┃\n",
       "┡━━━━━━━━━━━━━━━━━━━━━━━━━━━━━━━━━╇━━━━━━━━━━━━━━━━━━━━━━━━╇━━━━━━━━━━━━━━━┩\n",
       "│ dense_5 (<span style=\"color: #0087ff; text-decoration-color: #0087ff\">Dense</span>)                 │ (<span style=\"color: #00d7ff; text-decoration-color: #00d7ff\">None</span>, <span style=\"color: #00af00; text-decoration-color: #00af00\">128</span>)            │         <span style=\"color: #00af00; text-decoration-color: #00af00\">1,152</span> │\n",
       "├─────────────────────────────────┼────────────────────────┼───────────────┤\n",
       "│ dense_6 (<span style=\"color: #0087ff; text-decoration-color: #0087ff\">Dense</span>)                 │ (<span style=\"color: #00d7ff; text-decoration-color: #00d7ff\">None</span>, <span style=\"color: #00af00; text-decoration-color: #00af00\">64</span>)             │         <span style=\"color: #00af00; text-decoration-color: #00af00\">8,256</span> │\n",
       "├─────────────────────────────────┼────────────────────────┼───────────────┤\n",
       "│ dense_7 (<span style=\"color: #0087ff; text-decoration-color: #0087ff\">Dense</span>)                 │ (<span style=\"color: #00d7ff; text-decoration-color: #00d7ff\">None</span>, <span style=\"color: #00af00; text-decoration-color: #00af00\">28</span>)             │         <span style=\"color: #00af00; text-decoration-color: #00af00\">1,820</span> │\n",
       "├─────────────────────────────────┼────────────────────────┼───────────────┤\n",
       "│ dense_8 (<span style=\"color: #0087ff; text-decoration-color: #0087ff\">Dense</span>)                 │ (<span style=\"color: #00d7ff; text-decoration-color: #00d7ff\">None</span>, <span style=\"color: #00af00; text-decoration-color: #00af00\">14</span>)             │           <span style=\"color: #00af00; text-decoration-color: #00af00\">406</span> │\n",
       "├─────────────────────────────────┼────────────────────────┼───────────────┤\n",
       "│ dense_9 (<span style=\"color: #0087ff; text-decoration-color: #0087ff\">Dense</span>)                 │ (<span style=\"color: #00d7ff; text-decoration-color: #00d7ff\">None</span>, <span style=\"color: #00af00; text-decoration-color: #00af00\">6</span>)              │            <span style=\"color: #00af00; text-decoration-color: #00af00\">90</span> │\n",
       "├─────────────────────────────────┼────────────────────────┼───────────────┤\n",
       "│ dense_10 (<span style=\"color: #0087ff; text-decoration-color: #0087ff\">Dense</span>)                │ (<span style=\"color: #00d7ff; text-decoration-color: #00d7ff\">None</span>, <span style=\"color: #00af00; text-decoration-color: #00af00\">9092</span>)           │        <span style=\"color: #00af00; text-decoration-color: #00af00\">63,644</span> │\n",
       "└─────────────────────────────────┴────────────────────────┴───────────────┘\n",
       "</pre>\n"
      ],
      "text/plain": [
       "┏━━━━━━━━━━━━━━━━━━━━━━━━━━━━━━━━━┳━━━━━━━━━━━━━━━━━━━━━━━━┳━━━━━━━━━━━━━━━┓\n",
       "┃\u001b[1m \u001b[0m\u001b[1mLayer (type)                   \u001b[0m\u001b[1m \u001b[0m┃\u001b[1m \u001b[0m\u001b[1mOutput Shape          \u001b[0m\u001b[1m \u001b[0m┃\u001b[1m \u001b[0m\u001b[1m      Param #\u001b[0m\u001b[1m \u001b[0m┃\n",
       "┡━━━━━━━━━━━━━━━━━━━━━━━━━━━━━━━━━╇━━━━━━━━━━━━━━━━━━━━━━━━╇━━━━━━━━━━━━━━━┩\n",
       "│ dense_5 (\u001b[38;5;33mDense\u001b[0m)                 │ (\u001b[38;5;45mNone\u001b[0m, \u001b[38;5;34m128\u001b[0m)            │         \u001b[38;5;34m1,152\u001b[0m │\n",
       "├─────────────────────────────────┼────────────────────────┼───────────────┤\n",
       "│ dense_6 (\u001b[38;5;33mDense\u001b[0m)                 │ (\u001b[38;5;45mNone\u001b[0m, \u001b[38;5;34m64\u001b[0m)             │         \u001b[38;5;34m8,256\u001b[0m │\n",
       "├─────────────────────────────────┼────────────────────────┼───────────────┤\n",
       "│ dense_7 (\u001b[38;5;33mDense\u001b[0m)                 │ (\u001b[38;5;45mNone\u001b[0m, \u001b[38;5;34m28\u001b[0m)             │         \u001b[38;5;34m1,820\u001b[0m │\n",
       "├─────────────────────────────────┼────────────────────────┼───────────────┤\n",
       "│ dense_8 (\u001b[38;5;33mDense\u001b[0m)                 │ (\u001b[38;5;45mNone\u001b[0m, \u001b[38;5;34m14\u001b[0m)             │           \u001b[38;5;34m406\u001b[0m │\n",
       "├─────────────────────────────────┼────────────────────────┼───────────────┤\n",
       "│ dense_9 (\u001b[38;5;33mDense\u001b[0m)                 │ (\u001b[38;5;45mNone\u001b[0m, \u001b[38;5;34m6\u001b[0m)              │            \u001b[38;5;34m90\u001b[0m │\n",
       "├─────────────────────────────────┼────────────────────────┼───────────────┤\n",
       "│ dense_10 (\u001b[38;5;33mDense\u001b[0m)                │ (\u001b[38;5;45mNone\u001b[0m, \u001b[38;5;34m9092\u001b[0m)           │        \u001b[38;5;34m63,644\u001b[0m │\n",
       "└─────────────────────────────────┴────────────────────────┴───────────────┘\n"
      ]
     },
     "metadata": {},
     "output_type": "display_data"
    },
    {
     "data": {
      "text/html": [
       "<pre style=\"white-space:pre;overflow-x:auto;line-height:normal;font-family:Menlo,'DejaVu Sans Mono',consolas,'Courier New',monospace\"><span style=\"font-weight: bold\"> Total params: </span><span style=\"color: #00af00; text-decoration-color: #00af00\">75,368</span> (294.41 KB)\n",
       "</pre>\n"
      ],
      "text/plain": [
       "\u001b[1m Total params: \u001b[0m\u001b[38;5;34m75,368\u001b[0m (294.41 KB)\n"
      ]
     },
     "metadata": {},
     "output_type": "display_data"
    },
    {
     "data": {
      "text/html": [
       "<pre style=\"white-space:pre;overflow-x:auto;line-height:normal;font-family:Menlo,'DejaVu Sans Mono',consolas,'Courier New',monospace\"><span style=\"font-weight: bold\"> Trainable params: </span><span style=\"color: #00af00; text-decoration-color: #00af00\">75,368</span> (294.41 KB)\n",
       "</pre>\n"
      ],
      "text/plain": [
       "\u001b[1m Trainable params: \u001b[0m\u001b[38;5;34m75,368\u001b[0m (294.41 KB)\n"
      ]
     },
     "metadata": {},
     "output_type": "display_data"
    },
    {
     "data": {
      "text/html": [
       "<pre style=\"white-space:pre;overflow-x:auto;line-height:normal;font-family:Menlo,'DejaVu Sans Mono',consolas,'Courier New',monospace\"><span style=\"font-weight: bold\"> Non-trainable params: </span><span style=\"color: #00af00; text-decoration-color: #00af00\">0</span> (0.00 B)\n",
       "</pre>\n"
      ],
      "text/plain": [
       "\u001b[1m Non-trainable params: \u001b[0m\u001b[38;5;34m0\u001b[0m (0.00 B)\n"
      ]
     },
     "metadata": {},
     "output_type": "display_data"
    }
   ],
   "source": [
    "import tensorflow as tf\n",
    "from tensorflow.keras.models import Sequential\n",
    "from tensorflow.keras.layers import Dense, Dropout\n",
    "from tensorflow.keras.models import load_model\n",
    "model2 = Sequential()\n",
    "#input layer - 22 (columns) - developer scope\n",
    "model2.add(Dense(128,input_dim = X_train_scaled.shape[1],activation=\"relu\")) #hl1\n",
    "model2.add(Dense(64,activation=\"relu\")) #hl 2\n",
    "model2.add(Dense(28,activation=\"relu\")) #hl 3\n",
    "model2.add(Dense(14,activation=\"relu\")) #hl 4\n",
    "model2.add(Dense(6,activation=\"relu\")) #hl 5\n",
    "model2.add(Dense(units=num_classes, activation='softmax')) #output\n",
    "model2.compile(loss='sparse_categorical_crossentropy',optimizer='adam',metrics=['accuracy'])\n",
    "\n",
    "model2.summary()"
   ]
  },
  {
   "cell_type": "code",
   "execution_count": 70,
   "metadata": {},
   "outputs": [
    {
     "name": "stdout",
     "output_type": "stream",
     "text": [
      "Epoch 1/70\n",
      "\u001b[1m966/966\u001b[0m \u001b[32m━━━━━━━━━━━━━━━━━━━━\u001b[0m\u001b[37m\u001b[0m \u001b[1m9s\u001b[0m 9ms/step - accuracy: 0.0615 - loss: 5.8337\n",
      "Epoch 2/70\n",
      "\u001b[1m966/966\u001b[0m \u001b[32m━━━━━━━━━━━━━━━━━━━━\u001b[0m\u001b[37m\u001b[0m \u001b[1m9s\u001b[0m 9ms/step - accuracy: 0.0643 - loss: 5.7113\n",
      "Epoch 3/70\n",
      "\u001b[1m966/966\u001b[0m \u001b[32m━━━━━━━━━━━━━━━━━━━━\u001b[0m\u001b[37m\u001b[0m \u001b[1m10s\u001b[0m 10ms/step - accuracy: 0.0700 - loss: 5.5959\n",
      "Epoch 4/70\n",
      "\u001b[1m966/966\u001b[0m \u001b[32m━━━━━━━━━━━━━━━━━━━━\u001b[0m\u001b[37m\u001b[0m \u001b[1m8s\u001b[0m 8ms/step - accuracy: 0.0731 - loss: 5.5412\n",
      "Epoch 5/70\n",
      "\u001b[1m966/966\u001b[0m \u001b[32m━━━━━━━━━━━━━━━━━━━━\u001b[0m\u001b[37m\u001b[0m \u001b[1m10s\u001b[0m 11ms/step - accuracy: 0.0770 - loss: 5.4732\n",
      "Epoch 6/70\n",
      "\u001b[1m966/966\u001b[0m \u001b[32m━━━━━━━━━━━━━━━━━━━━\u001b[0m\u001b[37m\u001b[0m \u001b[1m13s\u001b[0m 13ms/step - accuracy: 0.0755 - loss: 5.4149\n",
      "Epoch 7/70\n",
      "\u001b[1m966/966\u001b[0m \u001b[32m━━━━━━━━━━━━━━━━━━━━\u001b[0m\u001b[37m\u001b[0m \u001b[1m11s\u001b[0m 11ms/step - accuracy: 0.0743 - loss: 5.3713\n",
      "Epoch 8/70\n",
      "\u001b[1m966/966\u001b[0m \u001b[32m━━━━━━━━━━━━━━━━━━━━\u001b[0m\u001b[37m\u001b[0m \u001b[1m8s\u001b[0m 8ms/step - accuracy: 0.0789 - loss: 5.3081\n",
      "Epoch 9/70\n",
      "\u001b[1m966/966\u001b[0m \u001b[32m━━━━━━━━━━━━━━━━━━━━\u001b[0m\u001b[37m\u001b[0m \u001b[1m8s\u001b[0m 8ms/step - accuracy: 0.0821 - loss: 5.2844\n",
      "Epoch 10/70\n",
      "\u001b[1m966/966\u001b[0m \u001b[32m━━━━━━━━━━━━━━━━━━━━\u001b[0m\u001b[37m\u001b[0m \u001b[1m8s\u001b[0m 8ms/step - accuracy: 0.0837 - loss: 5.2089\n",
      "Epoch 11/70\n",
      "\u001b[1m966/966\u001b[0m \u001b[32m━━━━━━━━━━━━━━━━━━━━\u001b[0m\u001b[37m\u001b[0m \u001b[1m8s\u001b[0m 9ms/step - accuracy: 0.0843 - loss: 5.1858\n",
      "Epoch 12/70\n",
      "\u001b[1m966/966\u001b[0m \u001b[32m━━━━━━━━━━━━━━━━━━━━\u001b[0m\u001b[37m\u001b[0m \u001b[1m8s\u001b[0m 8ms/step - accuracy: 0.0832 - loss: 5.1658\n",
      "Epoch 13/70\n",
      "\u001b[1m966/966\u001b[0m \u001b[32m━━━━━━━━━━━━━━━━━━━━\u001b[0m\u001b[37m\u001b[0m \u001b[1m7s\u001b[0m 8ms/step - accuracy: 0.0909 - loss: 5.1153\n",
      "Epoch 14/70\n",
      "\u001b[1m966/966\u001b[0m \u001b[32m━━━━━━━━━━━━━━━━━━━━\u001b[0m\u001b[37m\u001b[0m \u001b[1m8s\u001b[0m 8ms/step - accuracy: 0.0890 - loss: 5.0862\n",
      "Epoch 15/70\n",
      "\u001b[1m966/966\u001b[0m \u001b[32m━━━━━━━━━━━━━━━━━━━━\u001b[0m\u001b[37m\u001b[0m \u001b[1m10s\u001b[0m 8ms/step - accuracy: 0.0914 - loss: 5.0390\n",
      "Epoch 16/70\n",
      "\u001b[1m966/966\u001b[0m \u001b[32m━━━━━━━━━━━━━━━━━━━━\u001b[0m\u001b[37m\u001b[0m \u001b[1m9s\u001b[0m 10ms/step - accuracy: 0.0958 - loss: 5.0136\n",
      "Epoch 17/70\n",
      "\u001b[1m966/966\u001b[0m \u001b[32m━━━━━━━━━━━━━━━━━━━━\u001b[0m\u001b[37m\u001b[0m \u001b[1m9s\u001b[0m 9ms/step - accuracy: 0.0915 - loss: 4.9878\n",
      "Epoch 18/70\n",
      "\u001b[1m966/966\u001b[0m \u001b[32m━━━━━━━━━━━━━━━━━━━━\u001b[0m\u001b[37m\u001b[0m \u001b[1m13s\u001b[0m 13ms/step - accuracy: 0.0960 - loss: 4.9527\n",
      "Epoch 19/70\n",
      "\u001b[1m966/966\u001b[0m \u001b[32m━━━━━━━━━━━━━━━━━━━━\u001b[0m\u001b[37m\u001b[0m \u001b[1m14s\u001b[0m 14ms/step - accuracy: 0.0952 - loss: 4.9156\n",
      "Epoch 20/70\n",
      "\u001b[1m966/966\u001b[0m \u001b[32m━━━━━━━━━━━━━━━━━━━━\u001b[0m\u001b[37m\u001b[0m \u001b[1m13s\u001b[0m 14ms/step - accuracy: 0.0953 - loss: 4.9184\n",
      "Epoch 21/70\n",
      "\u001b[1m966/966\u001b[0m \u001b[32m━━━━━━━━━━━━━━━━━━━━\u001b[0m\u001b[37m\u001b[0m \u001b[1m11s\u001b[0m 12ms/step - accuracy: 0.0956 - loss: 4.8912\n",
      "Epoch 22/70\n",
      "\u001b[1m966/966\u001b[0m \u001b[32m━━━━━━━━━━━━━━━━━━━━\u001b[0m\u001b[37m\u001b[0m \u001b[1m10s\u001b[0m 10ms/step - accuracy: 0.0989 - loss: 4.8305\n",
      "Epoch 23/70\n",
      "\u001b[1m966/966\u001b[0m \u001b[32m━━━━━━━━━━━━━━━━━━━━\u001b[0m\u001b[37m\u001b[0m \u001b[1m10s\u001b[0m 10ms/step - accuracy: 0.0949 - loss: 4.8450\n",
      "Epoch 24/70\n",
      "\u001b[1m966/966\u001b[0m \u001b[32m━━━━━━━━━━━━━━━━━━━━\u001b[0m\u001b[37m\u001b[0m \u001b[1m10s\u001b[0m 10ms/step - accuracy: 0.1020 - loss: 4.8126\n",
      "Epoch 25/70\n",
      "\u001b[1m966/966\u001b[0m \u001b[32m━━━━━━━━━━━━━━━━━━━━\u001b[0m\u001b[37m\u001b[0m \u001b[1m10s\u001b[0m 11ms/step - accuracy: 0.1015 - loss: 4.7848\n",
      "Epoch 26/70\n",
      "\u001b[1m966/966\u001b[0m \u001b[32m━━━━━━━━━━━━━━━━━━━━\u001b[0m\u001b[37m\u001b[0m \u001b[1m11s\u001b[0m 11ms/step - accuracy: 0.1056 - loss: 4.7393\n",
      "Epoch 27/70\n",
      "\u001b[1m966/966\u001b[0m \u001b[32m━━━━━━━━━━━━━━━━━━━━\u001b[0m\u001b[37m\u001b[0m \u001b[1m12s\u001b[0m 12ms/step - accuracy: 0.1039 - loss: 4.7481\n",
      "Epoch 28/70\n",
      "\u001b[1m966/966\u001b[0m \u001b[32m━━━━━━━━━━━━━━━━━━━━\u001b[0m\u001b[37m\u001b[0m \u001b[1m13s\u001b[0m 13ms/step - accuracy: 0.1076 - loss: 4.7140\n",
      "Epoch 29/70\n",
      "\u001b[1m966/966\u001b[0m \u001b[32m━━━━━━━━━━━━━━━━━━━━\u001b[0m\u001b[37m\u001b[0m \u001b[1m10s\u001b[0m 11ms/step - accuracy: 0.1061 - loss: 4.6843\n",
      "Epoch 30/70\n",
      "\u001b[1m966/966\u001b[0m \u001b[32m━━━━━━━━━━━━━━━━━━━━\u001b[0m\u001b[37m\u001b[0m \u001b[1m21s\u001b[0m 12ms/step - accuracy: 0.1074 - loss: 4.6790\n",
      "Epoch 31/70\n",
      "\u001b[1m966/966\u001b[0m \u001b[32m━━━━━━━━━━━━━━━━━━━━\u001b[0m\u001b[37m\u001b[0m \u001b[1m10s\u001b[0m 10ms/step - accuracy: 0.1053 - loss: 4.6817\n",
      "Epoch 32/70\n",
      "\u001b[1m966/966\u001b[0m \u001b[32m━━━━━━━━━━━━━━━━━━━━\u001b[0m\u001b[37m\u001b[0m \u001b[1m10s\u001b[0m 10ms/step - accuracy: 0.1090 - loss: 4.6174\n",
      "Epoch 33/70\n",
      "\u001b[1m966/966\u001b[0m \u001b[32m━━━━━━━━━━━━━━━━━━━━\u001b[0m\u001b[37m\u001b[0m \u001b[1m10s\u001b[0m 10ms/step - accuracy: 0.1085 - loss: 4.6131\n",
      "Epoch 34/70\n",
      "\u001b[1m966/966\u001b[0m \u001b[32m━━━━━━━━━━━━━━━━━━━━\u001b[0m\u001b[37m\u001b[0m \u001b[1m11s\u001b[0m 11ms/step - accuracy: 0.1109 - loss: 4.6322\n",
      "Epoch 35/70\n",
      "\u001b[1m966/966\u001b[0m \u001b[32m━━━━━━━━━━━━━━━━━━━━\u001b[0m\u001b[37m\u001b[0m \u001b[1m11s\u001b[0m 11ms/step - accuracy: 0.1150 - loss: 4.5933\n",
      "Epoch 36/70\n",
      "\u001b[1m966/966\u001b[0m \u001b[32m━━━━━━━━━━━━━━━━━━━━\u001b[0m\u001b[37m\u001b[0m \u001b[1m17s\u001b[0m 17ms/step - accuracy: 0.1115 - loss: 4.5767\n",
      "Epoch 37/70\n",
      "\u001b[1m966/966\u001b[0m \u001b[32m━━━━━━━━━━━━━━━━━━━━\u001b[0m\u001b[37m\u001b[0m \u001b[1m19s\u001b[0m 15ms/step - accuracy: 0.1095 - loss: 4.5783\n",
      "Epoch 38/70\n",
      "\u001b[1m966/966\u001b[0m \u001b[32m━━━━━━━━━━━━━━━━━━━━\u001b[0m\u001b[37m\u001b[0m \u001b[1m23s\u001b[0m 18ms/step - accuracy: 0.1135 - loss: 4.5343\n",
      "Epoch 39/70\n",
      "\u001b[1m966/966\u001b[0m \u001b[32m━━━━━━━━━━━━━━━━━━━━\u001b[0m\u001b[37m\u001b[0m \u001b[1m15s\u001b[0m 16ms/step - accuracy: 0.1121 - loss: 4.5365\n",
      "Epoch 40/70\n",
      "\u001b[1m966/966\u001b[0m \u001b[32m━━━━━━━━━━━━━━━━━━━━\u001b[0m\u001b[37m\u001b[0m \u001b[1m20s\u001b[0m 15ms/step - accuracy: 0.1174 - loss: 4.5062\n",
      "Epoch 41/70\n",
      "\u001b[1m966/966\u001b[0m \u001b[32m━━━━━━━━━━━━━━━━━━━━\u001b[0m\u001b[37m\u001b[0m \u001b[1m14s\u001b[0m 14ms/step - accuracy: 0.1151 - loss: 4.5130\n",
      "Epoch 42/70\n",
      "\u001b[1m966/966\u001b[0m \u001b[32m━━━━━━━━━━━━━━━━━━━━\u001b[0m\u001b[37m\u001b[0m \u001b[1m25s\u001b[0m 19ms/step - accuracy: 0.1140 - loss: 4.5051\n",
      "Epoch 43/70\n",
      "\u001b[1m966/966\u001b[0m \u001b[32m━━━━━━━━━━━━━━━━━━━━\u001b[0m\u001b[37m\u001b[0m \u001b[1m23s\u001b[0m 21ms/step - accuracy: 0.1138 - loss: 4.4978\n",
      "Epoch 44/70\n",
      "\u001b[1m966/966\u001b[0m \u001b[32m━━━━━━━━━━━━━━━━━━━━\u001b[0m\u001b[37m\u001b[0m \u001b[1m16s\u001b[0m 16ms/step - accuracy: 0.1169 - loss: 4.4731\n",
      "Epoch 45/70\n",
      "\u001b[1m966/966\u001b[0m \u001b[32m━━━━━━━━━━━━━━━━━━━━\u001b[0m\u001b[37m\u001b[0m \u001b[1m20s\u001b[0m 15ms/step - accuracy: 0.1200 - loss: 4.4476\n",
      "Epoch 46/70\n",
      "\u001b[1m966/966\u001b[0m \u001b[32m━━━━━━━━━━━━━━━━━━━━\u001b[0m\u001b[37m\u001b[0m \u001b[1m22s\u001b[0m 17ms/step - accuracy: 0.1189 - loss: 4.4369\n",
      "Epoch 47/70\n",
      "\u001b[1m966/966\u001b[0m \u001b[32m━━━━━━━━━━━━━━━━━━━━\u001b[0m\u001b[37m\u001b[0m \u001b[1m16s\u001b[0m 11ms/step - accuracy: 0.1195 - loss: 4.4362\n",
      "Epoch 48/70\n",
      "\u001b[1m966/966\u001b[0m \u001b[32m━━━━━━━━━━━━━━━━━━━━\u001b[0m\u001b[37m\u001b[0m \u001b[1m11s\u001b[0m 11ms/step - accuracy: 0.1211 - loss: 4.4130\n",
      "Epoch 49/70\n",
      "\u001b[1m966/966\u001b[0m \u001b[32m━━━━━━━━━━━━━━━━━━━━\u001b[0m\u001b[37m\u001b[0m \u001b[1m10s\u001b[0m 11ms/step - accuracy: 0.1182 - loss: 4.4147\n",
      "Epoch 50/70\n",
      "\u001b[1m966/966\u001b[0m \u001b[32m━━━━━━━━━━━━━━━━━━━━\u001b[0m\u001b[37m\u001b[0m \u001b[1m11s\u001b[0m 11ms/step - accuracy: 0.1226 - loss: 4.4083\n",
      "Epoch 51/70\n",
      "\u001b[1m966/966\u001b[0m \u001b[32m━━━━━━━━━━━━━━━━━━━━\u001b[0m\u001b[37m\u001b[0m \u001b[1m25s\u001b[0m 15ms/step - accuracy: 0.1257 - loss: 4.3956\n",
      "Epoch 52/70\n",
      "\u001b[1m966/966\u001b[0m \u001b[32m━━━━━━━━━━━━━━━━━━━━\u001b[0m\u001b[37m\u001b[0m \u001b[1m14s\u001b[0m 15ms/step - accuracy: 0.1239 - loss: 4.3788\n",
      "Epoch 53/70\n",
      "\u001b[1m966/966\u001b[0m \u001b[32m━━━━━━━━━━━━━━━━━━━━\u001b[0m\u001b[37m\u001b[0m \u001b[1m12s\u001b[0m 13ms/step - accuracy: 0.1256 - loss: 4.3617\n",
      "Epoch 54/70\n",
      "\u001b[1m966/966\u001b[0m \u001b[32m━━━━━━━━━━━━━━━━━━━━\u001b[0m\u001b[37m\u001b[0m \u001b[1m11s\u001b[0m 12ms/step - accuracy: 0.1262 - loss: 4.3571\n",
      "Epoch 55/70\n",
      "\u001b[1m966/966\u001b[0m \u001b[32m━━━━━━━━━━━━━━━━━━━━\u001b[0m\u001b[37m\u001b[0m \u001b[1m20s\u001b[0m 11ms/step - accuracy: 0.1283 - loss: 4.3288\n",
      "Epoch 56/70\n",
      "\u001b[1m966/966\u001b[0m \u001b[32m━━━━━━━━━━━━━━━━━━━━\u001b[0m\u001b[37m\u001b[0m \u001b[1m11s\u001b[0m 12ms/step - accuracy: 0.1288 - loss: 4.3278\n",
      "Epoch 57/70\n",
      "\u001b[1m966/966\u001b[0m \u001b[32m━━━━━━━━━━━━━━━━━━━━\u001b[0m\u001b[37m\u001b[0m \u001b[1m11s\u001b[0m 11ms/step - accuracy: 0.1280 - loss: 4.3279\n",
      "Epoch 58/70\n",
      "\u001b[1m966/966\u001b[0m \u001b[32m━━━━━━━━━━━━━━━━━━━━\u001b[0m\u001b[37m\u001b[0m \u001b[1m11s\u001b[0m 11ms/step - accuracy: 0.1259 - loss: 4.3046\n",
      "Epoch 59/70\n",
      "\u001b[1m966/966\u001b[0m \u001b[32m━━━━━━━━━━━━━━━━━━━━\u001b[0m\u001b[37m\u001b[0m \u001b[1m11s\u001b[0m 11ms/step - accuracy: 0.1275 - loss: 4.3221\n",
      "Epoch 60/70\n",
      "\u001b[1m966/966\u001b[0m \u001b[32m━━━━━━━━━━━━━━━━━━━━\u001b[0m\u001b[37m\u001b[0m \u001b[1m11s\u001b[0m 11ms/step - accuracy: 0.1313 - loss: 4.2851\n",
      "Epoch 61/70\n",
      "\u001b[1m966/966\u001b[0m \u001b[32m━━━━━━━━━━━━━━━━━━━━\u001b[0m\u001b[37m\u001b[0m \u001b[1m22s\u001b[0m 13ms/step - accuracy: 0.1302 - loss: 4.2593\n",
      "Epoch 62/70\n",
      "\u001b[1m966/966\u001b[0m \u001b[32m━━━━━━━━━━━━━━━━━━━━\u001b[0m\u001b[37m\u001b[0m \u001b[1m12s\u001b[0m 13ms/step - accuracy: 0.1318 - loss: 4.2831\n",
      "Epoch 63/70\n",
      "\u001b[1m966/966\u001b[0m \u001b[32m━━━━━━━━━━━━━━━━━━━━\u001b[0m\u001b[37m\u001b[0m \u001b[1m12s\u001b[0m 13ms/step - accuracy: 0.1334 - loss: 4.2487\n",
      "Epoch 64/70\n",
      "\u001b[1m966/966\u001b[0m \u001b[32m━━━━━━━━━━━━━━━━━━━━\u001b[0m\u001b[37m\u001b[0m \u001b[1m9s\u001b[0m 9ms/step - accuracy: 0.1298 - loss: 4.2554\n",
      "Epoch 65/70\n",
      "\u001b[1m966/966\u001b[0m \u001b[32m━━━━━━━━━━━━━━━━━━━━\u001b[0m\u001b[37m\u001b[0m \u001b[1m15s\u001b[0m 14ms/step - accuracy: 0.1334 - loss: 4.2202\n",
      "Epoch 66/70\n",
      "\u001b[1m966/966\u001b[0m \u001b[32m━━━━━━━━━━━━━━━━━━━━\u001b[0m\u001b[37m\u001b[0m \u001b[1m23s\u001b[0m 16ms/step - accuracy: 0.1375 - loss: 4.2156\n",
      "Epoch 67/70\n",
      "\u001b[1m966/966\u001b[0m \u001b[32m━━━━━━━━━━━━━━━━━━━━\u001b[0m\u001b[37m\u001b[0m \u001b[1m17s\u001b[0m 18ms/step - accuracy: 0.1339 - loss: 4.2114\n",
      "Epoch 68/70\n",
      "\u001b[1m966/966\u001b[0m \u001b[32m━━━━━━━━━━━━━━━━━━━━\u001b[0m\u001b[37m\u001b[0m \u001b[1m16s\u001b[0m 17ms/step - accuracy: 0.1353 - loss: 4.2184\n",
      "Epoch 69/70\n",
      "\u001b[1m966/966\u001b[0m \u001b[32m━━━━━━━━━━━━━━━━━━━━\u001b[0m\u001b[37m\u001b[0m \u001b[1m15s\u001b[0m 11ms/step - accuracy: 0.1334 - loss: 4.2149\n",
      "Epoch 70/70\n",
      "\u001b[1m966/966\u001b[0m \u001b[32m━━━━━━━━━━━━━━━━━━━━\u001b[0m\u001b[37m\u001b[0m \u001b[1m11s\u001b[0m 11ms/step - accuracy: 0.1381 - loss: 4.1867\n"
     ]
    },
    {
     "data": {
      "text/plain": [
       "<keras.src.callbacks.history.History at 0x22dd5f68910>"
      ]
     },
     "execution_count": 70,
     "metadata": {},
     "output_type": "execute_result"
    }
   ],
   "source": [
    "model2.fit(X_train,y_train,epochs=70)"
   ]
  },
  {
   "cell_type": "code",
   "execution_count": 76,
   "metadata": {},
   "outputs": [
    {
     "name": "stderr",
     "output_type": "stream",
     "text": [
      "WARNING:absl:You are saving your model as an HDF5 file via `model.save()` or `keras.saving.save_model(model)`. This file format is considered legacy. We recommend using instead the native Keras format, e.g. `model.save('my_model.keras')` or `keras.saving.save_model(model, 'my_model.keras')`. \n"
     ]
    }
   ],
   "source": [
    "from tensorflow.keras.models import load_model\n",
    "model2.save('Book_Recommendation.h5')\n",
    "# Load the model\n",
    "#model_saved = load_model(\"model2.h5\")\n",
    "\n"
   ]
  },
  {
   "cell_type": "code",
   "execution_count": 77,
   "metadata": {},
   "outputs": [
    {
     "name": "stderr",
     "output_type": "stream",
     "text": [
      "WARNING:absl:Compiled the loaded model, but the compiled metrics have yet to be built. `model.compile_metrics` will be empty until you train or evaluate the model.\n"
     ]
    }
   ],
   "source": [
    "model = load_model(\"Book_Recommendation.h5\")"
   ]
  },
  {
   "cell_type": "code",
   "execution_count": 41,
   "metadata": {},
   "outputs": [
    {
     "name": "stderr",
     "output_type": "stream",
     "text": [
      "c:\\Users\\RISHI\\anaconda3\\Lib\\site-packages\\keras\\src\\layers\\core\\dense.py:87: UserWarning: Do not pass an `input_shape`/`input_dim` argument to a layer. When using Sequential models, prefer using an `Input(shape)` object as the first layer in the model instead.\n",
      "  super().__init__(activity_regularizer=activity_regularizer, **kwargs)\n"
     ]
    },
    {
     "data": {
      "text/html": [
       "<pre style=\"white-space:pre;overflow-x:auto;line-height:normal;font-family:Menlo,'DejaVu Sans Mono',consolas,'Courier New',monospace\"><span style=\"font-weight: bold\">Model: \"sequential_8\"</span>\n",
       "</pre>\n"
      ],
      "text/plain": [
       "\u001b[1mModel: \"sequential_8\"\u001b[0m\n"
      ]
     },
     "metadata": {},
     "output_type": "display_data"
    },
    {
     "data": {
      "text/html": [
       "<pre style=\"white-space:pre;overflow-x:auto;line-height:normal;font-family:Menlo,'DejaVu Sans Mono',consolas,'Courier New',monospace\">┏━━━━━━━━━━━━━━━━━━━━━━━━━━━━━━━━━┳━━━━━━━━━━━━━━━━━━━━━━━━┳━━━━━━━━━━━━━━━┓\n",
       "┃<span style=\"font-weight: bold\"> Layer (type)                    </span>┃<span style=\"font-weight: bold\"> Output Shape           </span>┃<span style=\"font-weight: bold\">       Param # </span>┃\n",
       "┡━━━━━━━━━━━━━━━━━━━━━━━━━━━━━━━━━╇━━━━━━━━━━━━━━━━━━━━━━━━╇━━━━━━━━━━━━━━━┩\n",
       "│ dense_33 (<span style=\"color: #0087ff; text-decoration-color: #0087ff\">Dense</span>)                │ (<span style=\"color: #00d7ff; text-decoration-color: #00d7ff\">None</span>, <span style=\"color: #00af00; text-decoration-color: #00af00\">8</span>)              │            <span style=\"color: #00af00; text-decoration-color: #00af00\">80</span> │\n",
       "├─────────────────────────────────┼────────────────────────┼───────────────┤\n",
       "│ dense_34 (<span style=\"color: #0087ff; text-decoration-color: #0087ff\">Dense</span>)                │ (<span style=\"color: #00d7ff; text-decoration-color: #00d7ff\">None</span>, <span style=\"color: #00af00; text-decoration-color: #00af00\">4</span>)              │            <span style=\"color: #00af00; text-decoration-color: #00af00\">36</span> │\n",
       "├─────────────────────────────────┼────────────────────────┼───────────────┤\n",
       "│ dense_35 (<span style=\"color: #0087ff; text-decoration-color: #0087ff\">Dense</span>)                │ (<span style=\"color: #00d7ff; text-decoration-color: #00d7ff\">None</span>, <span style=\"color: #00af00; text-decoration-color: #00af00\">8</span>)              │            <span style=\"color: #00af00; text-decoration-color: #00af00\">40</span> │\n",
       "├─────────────────────────────────┼────────────────────────┼───────────────┤\n",
       "│ dense_36 (<span style=\"color: #0087ff; text-decoration-color: #0087ff\">Dense</span>)                │ (<span style=\"color: #00d7ff; text-decoration-color: #00d7ff\">None</span>, <span style=\"color: #00af00; text-decoration-color: #00af00\">3</span>)              │            <span style=\"color: #00af00; text-decoration-color: #00af00\">27</span> │\n",
       "└─────────────────────────────────┴────────────────────────┴───────────────┘\n",
       "</pre>\n"
      ],
      "text/plain": [
       "┏━━━━━━━━━━━━━━━━━━━━━━━━━━━━━━━━━┳━━━━━━━━━━━━━━━━━━━━━━━━┳━━━━━━━━━━━━━━━┓\n",
       "┃\u001b[1m \u001b[0m\u001b[1mLayer (type)                   \u001b[0m\u001b[1m \u001b[0m┃\u001b[1m \u001b[0m\u001b[1mOutput Shape          \u001b[0m\u001b[1m \u001b[0m┃\u001b[1m \u001b[0m\u001b[1m      Param #\u001b[0m\u001b[1m \u001b[0m┃\n",
       "┡━━━━━━━━━━━━━━━━━━━━━━━━━━━━━━━━━╇━━━━━━━━━━━━━━━━━━━━━━━━╇━━━━━━━━━━━━━━━┩\n",
       "│ dense_33 (\u001b[38;5;33mDense\u001b[0m)                │ (\u001b[38;5;45mNone\u001b[0m, \u001b[38;5;34m8\u001b[0m)              │            \u001b[38;5;34m80\u001b[0m │\n",
       "├─────────────────────────────────┼────────────────────────┼───────────────┤\n",
       "│ dense_34 (\u001b[38;5;33mDense\u001b[0m)                │ (\u001b[38;5;45mNone\u001b[0m, \u001b[38;5;34m4\u001b[0m)              │            \u001b[38;5;34m36\u001b[0m │\n",
       "├─────────────────────────────────┼────────────────────────┼───────────────┤\n",
       "│ dense_35 (\u001b[38;5;33mDense\u001b[0m)                │ (\u001b[38;5;45mNone\u001b[0m, \u001b[38;5;34m8\u001b[0m)              │            \u001b[38;5;34m40\u001b[0m │\n",
       "├─────────────────────────────────┼────────────────────────┼───────────────┤\n",
       "│ dense_36 (\u001b[38;5;33mDense\u001b[0m)                │ (\u001b[38;5;45mNone\u001b[0m, \u001b[38;5;34m3\u001b[0m)              │            \u001b[38;5;34m27\u001b[0m │\n",
       "└─────────────────────────────────┴────────────────────────┴───────────────┘\n"
      ]
     },
     "metadata": {},
     "output_type": "display_data"
    },
    {
     "data": {
      "text/html": [
       "<pre style=\"white-space:pre;overflow-x:auto;line-height:normal;font-family:Menlo,'DejaVu Sans Mono',consolas,'Courier New',monospace\"><span style=\"font-weight: bold\"> Total params: </span><span style=\"color: #00af00; text-decoration-color: #00af00\">183</span> (732.00 B)\n",
       "</pre>\n"
      ],
      "text/plain": [
       "\u001b[1m Total params: \u001b[0m\u001b[38;5;34m183\u001b[0m (732.00 B)\n"
      ]
     },
     "metadata": {},
     "output_type": "display_data"
    },
    {
     "data": {
      "text/html": [
       "<pre style=\"white-space:pre;overflow-x:auto;line-height:normal;font-family:Menlo,'DejaVu Sans Mono',consolas,'Courier New',monospace\"><span style=\"font-weight: bold\"> Trainable params: </span><span style=\"color: #00af00; text-decoration-color: #00af00\">183</span> (732.00 B)\n",
       "</pre>\n"
      ],
      "text/plain": [
       "\u001b[1m Trainable params: \u001b[0m\u001b[38;5;34m183\u001b[0m (732.00 B)\n"
      ]
     },
     "metadata": {},
     "output_type": "display_data"
    },
    {
     "data": {
      "text/html": [
       "<pre style=\"white-space:pre;overflow-x:auto;line-height:normal;font-family:Menlo,'DejaVu Sans Mono',consolas,'Courier New',monospace\"><span style=\"font-weight: bold\"> Non-trainable params: </span><span style=\"color: #00af00; text-decoration-color: #00af00\">0</span> (0.00 B)\n",
       "</pre>\n"
      ],
      "text/plain": [
       "\u001b[1m Non-trainable params: \u001b[0m\u001b[38;5;34m0\u001b[0m (0.00 B)\n"
      ]
     },
     "metadata": {},
     "output_type": "display_data"
    },
    {
     "data": {
      "text/plain": [
       "\"\\n# Initialize the ANN\\nmodel = Sequential()\\n\\n# Input layer\\nmodel.add(Dense(units=128, activation='relu', input_dim=X_train.shape[1]))\\n\\n# Hidden layers\\nmodel.add(Dense(units=64, activation='relu'))\\n#model.add(Dropout(0.3))  # Dropout for regularization\\nmodel.add(Dense(units=32, activation='relu'))\\n#model.add(Dropout(0.3))\\n#model.add(Dense(32, activation='relu'))\\n\\n\\n# Output layer\\n# Use 'softmax' activation for multi-class classification\\nnum_classes = len(df['book_title_encoded'].unique())\\nmodel.add(Dense(units=num_classes, activation='softmax'))\\n\\n# Compile the ANN\\nfrom tensorflow.keras.optimizers import Adam\\noptimizer = Adam(learning_rate=0.0001, clipvalue=1.0)\\nmodel.compile(optimizer='adam', loss='sparse_categorical_crossentropy', metrics=['accuracy'])\\n\\n# Summary of the model\\nmodel.summary()\""
      ]
     },
     "execution_count": 41,
     "metadata": {},
     "output_type": "execute_result"
    }
   ],
   "source": [
    "import tensorflow as tf\n",
    "from tensorflow.keras.models import Sequential\n",
    "from tensorflow.keras.layers import Dense, Dropout\n",
    "\n",
    "model = Sequential()\n",
    "model.add(Dense(8,input_dim = df.shape[1],activation=\"tanh\")) #hl1\n",
    "model.add(Dense(4,activation=\"tanh\")) #hl 2\n",
    "model.add(Dense(8,activation=\"tanh\")) #hl 3\n",
    "model.add(Dense(3,activation=\"linear\")) #output - note the data set is continious hence using linear\n",
    "model.compile(optimizer=\"adam\",loss=\"mean_squared_error\" , metrics=[tf.keras.metrics.R2Score(),tf.keras.metrics.MeanAbsoluteError(),tf.keras.metrics.MeanAbsolutePercentageError()] )\n",
    "model.summary()\n",
    "\"\"\"\n",
    "# Initialize the ANN\n",
    "model = Sequential()\n",
    "\n",
    "# Input layer\n",
    "model.add(Dense(units=128, activation='relu', input_dim=X_train.shape[1]))\n",
    "\n",
    "# Hidden layers\n",
    "model.add(Dense(units=64, activation='relu'))\n",
    "#model.add(Dropout(0.3))  # Dropout for regularization\n",
    "model.add(Dense(units=32, activation='relu'))\n",
    "#model.add(Dropout(0.3))\n",
    "#model.add(Dense(32, activation='relu'))\n",
    "\n",
    "\n",
    "# Output layer\n",
    "# Use 'softmax' activation for multi-class classification\n",
    "num_classes = len(df['book_title_encoded'].unique())\n",
    "model.add(Dense(units=num_classes, activation='softmax'))\n",
    "\n",
    "# Compile the ANN\n",
    "from tensorflow.keras.optimizers import Adam\n",
    "optimizer = Adam(learning_rate=0.0001, clipvalue=1.0)\n",
    "model.compile(optimizer='adam', loss='sparse_categorical_crossentropy', metrics=['accuracy'])\n",
    "\n",
    "# Summary of the model\n",
    "model.summary()\"\"\"\n"
   ]
  },
  {
   "cell_type": "code",
   "execution_count": 35,
   "metadata": {},
   "outputs": [
    {
     "name": "stdout",
     "output_type": "stream",
     "text": [
      "Epoch 1/50\n"
     ]
    },
    {
     "ename": "ValueError",
     "evalue": "Exception encountered when calling Sequential.call().\n\n\u001b[1mInput 0 of layer \"dense_29\" is incompatible with the layer: expected axis -1 of input shape to have value 9, but received input with shape (None, 8)\u001b[0m\n\nArguments received by Sequential.call():\n  • inputs=tf.Tensor(shape=(None, 8), dtype=float32)\n  • training=True\n  • mask=None",
     "output_type": "error",
     "traceback": [
      "\u001b[1;31m---------------------------------------------------------------------------\u001b[0m",
      "\u001b[1;31mValueError\u001b[0m                                Traceback (most recent call last)",
      "Cell \u001b[1;32mIn[35], line 9\u001b[0m\n\u001b[0;32m      1\u001b[0m \u001b[38;5;28;01mfrom\u001b[39;00m \u001b[38;5;21;01mtensorflow\u001b[39;00m\u001b[38;5;21;01m.\u001b[39;00m\u001b[38;5;21;01mkeras\u001b[39;00m\u001b[38;5;21;01m.\u001b[39;00m\u001b[38;5;21;01mcallbacks\u001b[39;00m \u001b[38;5;28;01mimport\u001b[39;00m EarlyStopping\n\u001b[0;32m      2\u001b[0m \u001b[38;5;124;03m\"\"\"\u001b[39;00m\n\u001b[0;32m      3\u001b[0m \u001b[38;5;124;03mearly_stopping = EarlyStopping(\u001b[39;00m\n\u001b[0;32m      4\u001b[0m \u001b[38;5;124;03m    monitor='val_loss',  # Monitor validation loss\u001b[39;00m\n\u001b[0;32m      5\u001b[0m \u001b[38;5;124;03m    patience=3,          # Number of epochs with no improvement\u001b[39;00m\n\u001b[0;32m      6\u001b[0m \u001b[38;5;124;03m    restore_best_weights=True  # Restore the best model weights\u001b[39;00m\n\u001b[0;32m      7\u001b[0m \u001b[38;5;124;03m)\"\"\"\u001b[39;00m\n\u001b[1;32m----> 9\u001b[0m history \u001b[38;5;241m=\u001b[39m model\u001b[38;5;241m.\u001b[39mfit(\n\u001b[0;32m     10\u001b[0m     X_train, y_train,\n\u001b[0;32m     11\u001b[0m     validation_data\u001b[38;5;241m=\u001b[39m(X_test, y_test),\n\u001b[0;32m     12\u001b[0m     epochs\u001b[38;5;241m=\u001b[39m\u001b[38;5;241m50\u001b[39m,\n\u001b[0;32m     13\u001b[0m     batch_size\u001b[38;5;241m=\u001b[39m\u001b[38;5;241m32\u001b[39m\u001b[38;5;66;03m#,\u001b[39;00m\n\u001b[0;32m     14\u001b[0m     \u001b[38;5;66;03m#callbacks=[early_stopping]\u001b[39;00m\n\u001b[0;32m     15\u001b[0m )\n",
      "File \u001b[1;32mc:\\Users\\RISHI\\anaconda3\\Lib\\site-packages\\keras\\src\\utils\\traceback_utils.py:122\u001b[0m, in \u001b[0;36mfilter_traceback.<locals>.error_handler\u001b[1;34m(*args, **kwargs)\u001b[0m\n\u001b[0;32m    119\u001b[0m     filtered_tb \u001b[38;5;241m=\u001b[39m _process_traceback_frames(e\u001b[38;5;241m.\u001b[39m__traceback__)\n\u001b[0;32m    120\u001b[0m     \u001b[38;5;66;03m# To get the full stack trace, call:\u001b[39;00m\n\u001b[0;32m    121\u001b[0m     \u001b[38;5;66;03m# `keras.config.disable_traceback_filtering()`\u001b[39;00m\n\u001b[1;32m--> 122\u001b[0m     \u001b[38;5;28;01mraise\u001b[39;00m e\u001b[38;5;241m.\u001b[39mwith_traceback(filtered_tb) \u001b[38;5;28;01mfrom\u001b[39;00m \u001b[38;5;28;01mNone\u001b[39;00m\n\u001b[0;32m    123\u001b[0m \u001b[38;5;28;01mfinally\u001b[39;00m:\n\u001b[0;32m    124\u001b[0m     \u001b[38;5;28;01mdel\u001b[39;00m filtered_tb\n",
      "File \u001b[1;32mc:\\Users\\RISHI\\anaconda3\\Lib\\site-packages\\keras\\src\\layers\\input_spec.py:227\u001b[0m, in \u001b[0;36massert_input_compatibility\u001b[1;34m(input_spec, inputs, layer_name)\u001b[0m\n\u001b[0;32m    222\u001b[0m     \u001b[38;5;28;01mfor\u001b[39;00m axis, value \u001b[38;5;129;01min\u001b[39;00m spec\u001b[38;5;241m.\u001b[39maxes\u001b[38;5;241m.\u001b[39mitems():\n\u001b[0;32m    223\u001b[0m         \u001b[38;5;28;01mif\u001b[39;00m value \u001b[38;5;129;01mis\u001b[39;00m \u001b[38;5;129;01mnot\u001b[39;00m \u001b[38;5;28;01mNone\u001b[39;00m \u001b[38;5;129;01mand\u001b[39;00m shape[axis] \u001b[38;5;129;01mnot\u001b[39;00m \u001b[38;5;129;01min\u001b[39;00m {\n\u001b[0;32m    224\u001b[0m             value,\n\u001b[0;32m    225\u001b[0m             \u001b[38;5;28;01mNone\u001b[39;00m,\n\u001b[0;32m    226\u001b[0m         }:\n\u001b[1;32m--> 227\u001b[0m             \u001b[38;5;28;01mraise\u001b[39;00m \u001b[38;5;167;01mValueError\u001b[39;00m(\n\u001b[0;32m    228\u001b[0m                 \u001b[38;5;124mf\u001b[39m\u001b[38;5;124m'\u001b[39m\u001b[38;5;124mInput \u001b[39m\u001b[38;5;132;01m{\u001b[39;00minput_index\u001b[38;5;132;01m}\u001b[39;00m\u001b[38;5;124m of layer \u001b[39m\u001b[38;5;124m\"\u001b[39m\u001b[38;5;132;01m{\u001b[39;00mlayer_name\u001b[38;5;132;01m}\u001b[39;00m\u001b[38;5;124m\"\u001b[39m\u001b[38;5;124m is \u001b[39m\u001b[38;5;124m'\u001b[39m\n\u001b[0;32m    229\u001b[0m                 \u001b[38;5;124mf\u001b[39m\u001b[38;5;124m\"\u001b[39m\u001b[38;5;124mincompatible with the layer: expected axis \u001b[39m\u001b[38;5;132;01m{\u001b[39;00maxis\u001b[38;5;132;01m}\u001b[39;00m\u001b[38;5;124m \u001b[39m\u001b[38;5;124m\"\u001b[39m\n\u001b[0;32m    230\u001b[0m                 \u001b[38;5;124mf\u001b[39m\u001b[38;5;124m\"\u001b[39m\u001b[38;5;124mof input shape to have value \u001b[39m\u001b[38;5;132;01m{\u001b[39;00mvalue\u001b[38;5;132;01m}\u001b[39;00m\u001b[38;5;124m, \u001b[39m\u001b[38;5;124m\"\u001b[39m\n\u001b[0;32m    231\u001b[0m                 \u001b[38;5;124m\"\u001b[39m\u001b[38;5;124mbut received input with \u001b[39m\u001b[38;5;124m\"\u001b[39m\n\u001b[0;32m    232\u001b[0m                 \u001b[38;5;124mf\u001b[39m\u001b[38;5;124m\"\u001b[39m\u001b[38;5;124mshape \u001b[39m\u001b[38;5;132;01m{\u001b[39;00mshape\u001b[38;5;132;01m}\u001b[39;00m\u001b[38;5;124m\"\u001b[39m\n\u001b[0;32m    233\u001b[0m             )\n\u001b[0;32m    234\u001b[0m \u001b[38;5;66;03m# Check shape.\u001b[39;00m\n\u001b[0;32m    235\u001b[0m \u001b[38;5;28;01mif\u001b[39;00m spec\u001b[38;5;241m.\u001b[39mshape \u001b[38;5;129;01mis\u001b[39;00m \u001b[38;5;129;01mnot\u001b[39;00m \u001b[38;5;28;01mNone\u001b[39;00m:\n",
      "\u001b[1;31mValueError\u001b[0m: Exception encountered when calling Sequential.call().\n\n\u001b[1mInput 0 of layer \"dense_29\" is incompatible with the layer: expected axis -1 of input shape to have value 9, but received input with shape (None, 8)\u001b[0m\n\nArguments received by Sequential.call():\n  • inputs=tf.Tensor(shape=(None, 8), dtype=float32)\n  • training=True\n  • mask=None"
     ]
    }
   ],
   "source": [
    "from tensorflow.keras.callbacks import EarlyStopping\n",
    "\"\"\"\n",
    "early_stopping = EarlyStopping(\n",
    "    monitor='val_loss',  # Monitor validation loss\n",
    "    patience=3,          # Number of epochs with no improvement\n",
    "    restore_best_weights=True  # Restore the best model weights\n",
    ")\"\"\"\n",
    "\n",
    "history = model.fit(\n",
    "    X_train, y_train,\n",
    "    validation_data=(X_test, y_test),\n",
    "    epochs=50,\n",
    "    batch_size=32#,\n",
    "    #callbacks=[early_stopping]\n",
    ")"
   ]
  },
  {
   "cell_type": "code",
   "execution_count": 42,
   "metadata": {},
   "outputs": [
    {
     "name": "stdout",
     "output_type": "stream",
     "text": [
      "Epoch 1/20\n"
     ]
    },
    {
     "ename": "ValueError",
     "evalue": "Dimensions must be equal, but are 9 and 3 for '{{node compile_loss/mean_squared_error/sub}} = Sub[T=DT_FLOAT](data_1, sequential_8_1/dense_36_1/BiasAdd)' with input shapes: [?,9], [?,3].",
     "output_type": "error",
     "traceback": [
      "\u001b[1;31m---------------------------------------------------------------------------\u001b[0m",
      "\u001b[1;31mValueError\u001b[0m                                Traceback (most recent call last)",
      "Cell \u001b[1;32mIn[42], line 1\u001b[0m\n\u001b[1;32m----> 1\u001b[0m result\u001b[38;5;241m=\u001b[39mmodel\u001b[38;5;241m.\u001b[39mfit(df,df,epochs\u001b[38;5;241m=\u001b[39m\u001b[38;5;241m20\u001b[39m,validation_split\u001b[38;5;241m=\u001b[39m\u001b[38;5;241m0.2\u001b[39m)\n",
      "File \u001b[1;32mc:\\Users\\RISHI\\anaconda3\\Lib\\site-packages\\keras\\src\\utils\\traceback_utils.py:122\u001b[0m, in \u001b[0;36mfilter_traceback.<locals>.error_handler\u001b[1;34m(*args, **kwargs)\u001b[0m\n\u001b[0;32m    119\u001b[0m     filtered_tb \u001b[38;5;241m=\u001b[39m _process_traceback_frames(e\u001b[38;5;241m.\u001b[39m__traceback__)\n\u001b[0;32m    120\u001b[0m     \u001b[38;5;66;03m# To get the full stack trace, call:\u001b[39;00m\n\u001b[0;32m    121\u001b[0m     \u001b[38;5;66;03m# `keras.config.disable_traceback_filtering()`\u001b[39;00m\n\u001b[1;32m--> 122\u001b[0m     \u001b[38;5;28;01mraise\u001b[39;00m e\u001b[38;5;241m.\u001b[39mwith_traceback(filtered_tb) \u001b[38;5;28;01mfrom\u001b[39;00m \u001b[38;5;28;01mNone\u001b[39;00m\n\u001b[0;32m    123\u001b[0m \u001b[38;5;28;01mfinally\u001b[39;00m:\n\u001b[0;32m    124\u001b[0m     \u001b[38;5;28;01mdel\u001b[39;00m filtered_tb\n",
      "File \u001b[1;32mc:\\Users\\RISHI\\anaconda3\\Lib\\site-packages\\keras\\src\\losses\\losses.py:1674\u001b[0m, in \u001b[0;36mmean_squared_error\u001b[1;34m(y_true, y_pred)\u001b[0m\n\u001b[0;32m   1672\u001b[0m y_true \u001b[38;5;241m=\u001b[39m ops\u001b[38;5;241m.\u001b[39mconvert_to_tensor(y_true, dtype\u001b[38;5;241m=\u001b[39my_pred\u001b[38;5;241m.\u001b[39mdtype)\n\u001b[0;32m   1673\u001b[0m y_true, y_pred \u001b[38;5;241m=\u001b[39m squeeze_or_expand_to_same_rank(y_true, y_pred)\n\u001b[1;32m-> 1674\u001b[0m \u001b[38;5;28;01mreturn\u001b[39;00m ops\u001b[38;5;241m.\u001b[39mmean(ops\u001b[38;5;241m.\u001b[39msquare(y_true \u001b[38;5;241m-\u001b[39m y_pred), axis\u001b[38;5;241m=\u001b[39m\u001b[38;5;241m-\u001b[39m\u001b[38;5;241m1\u001b[39m)\n",
      "\u001b[1;31mValueError\u001b[0m: Dimensions must be equal, but are 9 and 3 for '{{node compile_loss/mean_squared_error/sub}} = Sub[T=DT_FLOAT](data_1, sequential_8_1/dense_36_1/BiasAdd)' with input shapes: [?,9], [?,3]."
     ]
    }
   ],
   "source": [
    "result=model.fit(df,df,epochs=20,validation_split=0.2)"
   ]
  },
  {
   "cell_type": "code",
   "execution_count": 36,
   "metadata": {},
   "outputs": [
    {
     "name": "stdout",
     "output_type": "stream",
     "text": [
      "Epoch 1/50\n"
     ]
    },
    {
     "ename": "ValueError",
     "evalue": "Exception encountered when calling Sequential.call().\n\n\u001b[1mInput 0 of layer \"dense_29\" is incompatible with the layer: expected axis -1 of input shape to have value 9, but received input with shape (None, 8)\u001b[0m\n\nArguments received by Sequential.call():\n  • inputs=tf.Tensor(shape=(None, 8), dtype=float32)\n  • training=True\n  • mask=None",
     "output_type": "error",
     "traceback": [
      "\u001b[1;31m---------------------------------------------------------------------------\u001b[0m",
      "\u001b[1;31mValueError\u001b[0m                                Traceback (most recent call last)",
      "Cell \u001b[1;32mIn[36], line 2\u001b[0m\n\u001b[0;32m      1\u001b[0m \u001b[38;5;66;03m# Train the ANN\u001b[39;00m\n\u001b[1;32m----> 2\u001b[0m history \u001b[38;5;241m=\u001b[39m model\u001b[38;5;241m.\u001b[39mfit(X_train, y_train, batch_size\u001b[38;5;241m=\u001b[39m\u001b[38;5;241m32\u001b[39m, epochs\u001b[38;5;241m=\u001b[39m\u001b[38;5;241m50\u001b[39m, validation_data\u001b[38;5;241m=\u001b[39m(X_test, y_test))\n",
      "File \u001b[1;32mc:\\Users\\RISHI\\anaconda3\\Lib\\site-packages\\keras\\src\\utils\\traceback_utils.py:122\u001b[0m, in \u001b[0;36mfilter_traceback.<locals>.error_handler\u001b[1;34m(*args, **kwargs)\u001b[0m\n\u001b[0;32m    119\u001b[0m     filtered_tb \u001b[38;5;241m=\u001b[39m _process_traceback_frames(e\u001b[38;5;241m.\u001b[39m__traceback__)\n\u001b[0;32m    120\u001b[0m     \u001b[38;5;66;03m# To get the full stack trace, call:\u001b[39;00m\n\u001b[0;32m    121\u001b[0m     \u001b[38;5;66;03m# `keras.config.disable_traceback_filtering()`\u001b[39;00m\n\u001b[1;32m--> 122\u001b[0m     \u001b[38;5;28;01mraise\u001b[39;00m e\u001b[38;5;241m.\u001b[39mwith_traceback(filtered_tb) \u001b[38;5;28;01mfrom\u001b[39;00m \u001b[38;5;28;01mNone\u001b[39;00m\n\u001b[0;32m    123\u001b[0m \u001b[38;5;28;01mfinally\u001b[39;00m:\n\u001b[0;32m    124\u001b[0m     \u001b[38;5;28;01mdel\u001b[39;00m filtered_tb\n",
      "File \u001b[1;32mc:\\Users\\RISHI\\anaconda3\\Lib\\site-packages\\keras\\src\\layers\\input_spec.py:227\u001b[0m, in \u001b[0;36massert_input_compatibility\u001b[1;34m(input_spec, inputs, layer_name)\u001b[0m\n\u001b[0;32m    222\u001b[0m     \u001b[38;5;28;01mfor\u001b[39;00m axis, value \u001b[38;5;129;01min\u001b[39;00m spec\u001b[38;5;241m.\u001b[39maxes\u001b[38;5;241m.\u001b[39mitems():\n\u001b[0;32m    223\u001b[0m         \u001b[38;5;28;01mif\u001b[39;00m value \u001b[38;5;129;01mis\u001b[39;00m \u001b[38;5;129;01mnot\u001b[39;00m \u001b[38;5;28;01mNone\u001b[39;00m \u001b[38;5;129;01mand\u001b[39;00m shape[axis] \u001b[38;5;129;01mnot\u001b[39;00m \u001b[38;5;129;01min\u001b[39;00m {\n\u001b[0;32m    224\u001b[0m             value,\n\u001b[0;32m    225\u001b[0m             \u001b[38;5;28;01mNone\u001b[39;00m,\n\u001b[0;32m    226\u001b[0m         }:\n\u001b[1;32m--> 227\u001b[0m             \u001b[38;5;28;01mraise\u001b[39;00m \u001b[38;5;167;01mValueError\u001b[39;00m(\n\u001b[0;32m    228\u001b[0m                 \u001b[38;5;124mf\u001b[39m\u001b[38;5;124m'\u001b[39m\u001b[38;5;124mInput \u001b[39m\u001b[38;5;132;01m{\u001b[39;00minput_index\u001b[38;5;132;01m}\u001b[39;00m\u001b[38;5;124m of layer \u001b[39m\u001b[38;5;124m\"\u001b[39m\u001b[38;5;132;01m{\u001b[39;00mlayer_name\u001b[38;5;132;01m}\u001b[39;00m\u001b[38;5;124m\"\u001b[39m\u001b[38;5;124m is \u001b[39m\u001b[38;5;124m'\u001b[39m\n\u001b[0;32m    229\u001b[0m                 \u001b[38;5;124mf\u001b[39m\u001b[38;5;124m\"\u001b[39m\u001b[38;5;124mincompatible with the layer: expected axis \u001b[39m\u001b[38;5;132;01m{\u001b[39;00maxis\u001b[38;5;132;01m}\u001b[39;00m\u001b[38;5;124m \u001b[39m\u001b[38;5;124m\"\u001b[39m\n\u001b[0;32m    230\u001b[0m                 \u001b[38;5;124mf\u001b[39m\u001b[38;5;124m\"\u001b[39m\u001b[38;5;124mof input shape to have value \u001b[39m\u001b[38;5;132;01m{\u001b[39;00mvalue\u001b[38;5;132;01m}\u001b[39;00m\u001b[38;5;124m, \u001b[39m\u001b[38;5;124m\"\u001b[39m\n\u001b[0;32m    231\u001b[0m                 \u001b[38;5;124m\"\u001b[39m\u001b[38;5;124mbut received input with \u001b[39m\u001b[38;5;124m\"\u001b[39m\n\u001b[0;32m    232\u001b[0m                 \u001b[38;5;124mf\u001b[39m\u001b[38;5;124m\"\u001b[39m\u001b[38;5;124mshape \u001b[39m\u001b[38;5;132;01m{\u001b[39;00mshape\u001b[38;5;132;01m}\u001b[39;00m\u001b[38;5;124m\"\u001b[39m\n\u001b[0;32m    233\u001b[0m             )\n\u001b[0;32m    234\u001b[0m \u001b[38;5;66;03m# Check shape.\u001b[39;00m\n\u001b[0;32m    235\u001b[0m \u001b[38;5;28;01mif\u001b[39;00m spec\u001b[38;5;241m.\u001b[39mshape \u001b[38;5;129;01mis\u001b[39;00m \u001b[38;5;129;01mnot\u001b[39;00m \u001b[38;5;28;01mNone\u001b[39;00m:\n",
      "\u001b[1;31mValueError\u001b[0m: Exception encountered when calling Sequential.call().\n\n\u001b[1mInput 0 of layer \"dense_29\" is incompatible with the layer: expected axis -1 of input shape to have value 9, but received input with shape (None, 8)\u001b[0m\n\nArguments received by Sequential.call():\n  • inputs=tf.Tensor(shape=(None, 8), dtype=float32)\n  • training=True\n  • mask=None"
     ]
    }
   ],
   "source": [
    "# Train the ANN\n",
    "history = model.fit(X_train, y_train, batch_size=32, epochs=50, validation_data=(X_test, y_test))\n"
   ]
  },
  {
   "cell_type": "code",
   "execution_count": null,
   "metadata": {},
   "outputs": [],
   "source": [
    "# Evaluate on test data\n",
    "loss, accuracy = model.evaluate(X_test, y_test)\n",
    "print(f\"Test Loss: {loss}\")\n",
    "print(f\"Test Accuracy: {accuracy}\")\n"
   ]
  }
 ],
 "metadata": {
  "kernelspec": {
   "display_name": ".venv",
   "language": "python",
   "name": "python3"
  },
  "language_info": {
   "codemirror_mode": {
    "name": "ipython",
    "version": 3
   },
   "file_extension": ".py",
   "mimetype": "text/x-python",
   "name": "python",
   "nbconvert_exporter": "python",
   "pygments_lexer": "ipython3",
   "version": "3.11.7"
  }
 },
 "nbformat": 4,
 "nbformat_minor": 2
}
